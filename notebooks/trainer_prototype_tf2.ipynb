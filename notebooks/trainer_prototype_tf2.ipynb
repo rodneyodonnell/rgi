{
 "cells": [
  {
   "cell_type": "markdown",
   "id": "9c1440ce-9dee-447c-93a5-65b8c7e889e3",
   "metadata": {},
   "source": [
    "# Trainer TF2 scratchpad\n",
    "\n",
    "Generate training data\n",
    "```\n",
    "python rgi/main.py --game connect4 --player1 random --player2 random --num_games 100 --save_trajectories\n",
    "```"
   ]
  },
  {
   "cell_type": "code",
   "execution_count": null,
   "id": "b76c42cb",
   "metadata": {},
   "outputs": [
    {
     "name": "stdout",
     "output_type": "stream",
     "text": [
      "TensorFlow version: 2.18.0-rc2\n",
      "Num GPUs Available:  1\n"
     ]
    }
   ],
   "source": [
    "import tensorflow as tf\n",
    "from tensorflow import keras\n",
    "import numpy as np\n",
    "import os\n",
    "from typing import Any, NamedTuple\n",
    "from rgi.games import connect4\n",
    "from rgi.core import trajectory\n",
    "\n",
    "print(f\"TensorFlow version: {tf.__version__}\")\n",
    "\n",
    "# Check for GPU availability\n",
    "print(\"Num GPUs Available: \", len(tf.config.experimental.list_physical_devices('GPU')))\n",
    "\n",
    "import numpy as np\n",
    "np.set_printoptions(linewidth=150)"
   ]
  },
  {
   "cell_type": "code",
   "execution_count": 3,
   "id": "462b042b",
   "metadata": {},
   "outputs": [
    {
     "name": "stdout",
     "output_type": "stream",
     "text": [
      "[PhysicalDevice(name='/physical_device:GPU:0', device_type='GPU')]\n"
     ]
    }
   ],
   "source": [
    "# Use GPU if available\n",
    "gpus = tf.config.experimental.list_physical_devices('GPU')\n",
    "if gpus:\n",
    "    try:\n",
    "        for gpu in gpus:\n",
    "            tf.config.experimental.set_memory_growth(gpu, True)\n",
    "    except RuntimeError as e:\n",
    "        print(e)\n",
    "\n",
    "print(gpus)"
   ]
  },
  {
   "cell_type": "code",
   "execution_count": 4,
   "id": "33229c4e",
   "metadata": {},
   "outputs": [
    {
     "name": "stdout",
     "output_type": "stream",
     "text": [
      "Num GPUs Available:  1\n",
      "Is built with CUDA: True\n",
      "WARNING:tensorflow:From /tmp/ipykernel_979/1462182855.py:4: is_gpu_available (from tensorflow.python.framework.test_util) is deprecated and will be removed in a future version.\n",
      "Instructions for updating:\n",
      "Use `tf.config.list_physical_devices('GPU')` instead.\n",
      "Is GPU available: True\n",
      "GPU devices: [PhysicalDevice(name='/physical_device:GPU:0', device_type='GPU')]\n"
     ]
    },
    {
     "name": "stderr",
     "output_type": "stream",
     "text": [
      "I0000 00:00:1729124454.084847     979 gpu_device.cc:2022] Created device /device:GPU:0 with 5708 MB memory:  -> device: 0, name: NVIDIA GeForce RTX 2070 SUPER, pci bus id: 0000:2d:00.0, compute capability: 7.5\n"
     ]
    }
   ],
   "source": [
    "import tensorflow as tf\n",
    "print(\"Num GPUs Available: \", len(tf.config.experimental.list_physical_devices('GPU')))\n",
    "print(\"Is built with CUDA:\", tf.test.is_built_with_cuda())\n",
    "print(\"Is GPU available:\", tf.test.is_gpu_available())\n",
    "print(\"GPU devices:\", tf.config.list_physical_devices('GPU'))"
   ]
  },
  {
   "cell_type": "code",
   "execution_count": 5,
   "id": "fc1deb87",
   "metadata": {},
   "outputs": [
    {
     "name": "stdout",
     "output_type": "stream",
     "text": [
      "TensorFlow version: 2.18.0-rc2\n",
      "CUDA version: 12.5.1\n",
      "cuDNN version: 9\n"
     ]
    }
   ],
   "source": [
    "import tensorflow as tf\n",
    "print(\"TensorFlow version:\", tf.__version__)\n",
    "print(\"CUDA version:\", tf.sysconfig.get_build_info()[\"cuda_version\"])\n",
    "print(\"cuDNN version:\", tf.sysconfig.get_build_info()[\"cudnn_version\"])"
   ]
  },
  {
   "cell_type": "code",
   "execution_count": 6,
   "id": "03c7c64c",
   "metadata": {},
   "outputs": [
    {
     "name": "stdout",
     "output_type": "stream",
     "text": [
      "tf.Tensor(\n",
      "[[22. 28.]\n",
      " [49. 64.]], shape=(2, 2), dtype=float32)\n"
     ]
    },
    {
     "name": "stderr",
     "output_type": "stream",
     "text": [
      "I0000 00:00:1729124456.177457     979 gpu_device.cc:2022] Created device /job:localhost/replica:0/task:0/device:GPU:0 with 5708 MB memory:  -> device: 0, name: NVIDIA GeForce RTX 2070 SUPER, pci bus id: 0000:2d:00.0, compute capability: 7.5\n"
     ]
    }
   ],
   "source": [
    "with tf.device('/GPU:0'):\n",
    "    a = tf.constant([[1.0, 2.0, 3.0], [4.0, 5.0, 6.0]])\n",
    "    b = tf.constant([[1.0, 2.0], [3.0, 4.0], [5.0, 6.0]])\n",
    "    c = tf.matmul(a, b)\n",
    "print(c)"
   ]
  },
  {
   "cell_type": "markdown",
   "id": "b3686a38",
   "metadata": {},
   "source": [
    "# Load Trajectories"
   ]
  },
  {
   "cell_type": "code",
   "execution_count": 7,
   "id": "8003175e",
   "metadata": {},
   "outputs": [
    {
     "name": "stdout",
     "output_type": "stream",
     "text": [
      "trajectories_glob: ../data/trajectories/connect4/*.trajectory.npy\n",
      "num_trajectories: 1100\n"
     ]
    },
    {
     "name": "stderr",
     "output_type": "stream",
     "text": [
      "2024-10-17 00:21:00.087765: W external/xla/xla/service/gpu/nvptx_compiler.cc:893] The NVIDIA driver's CUDA version is 12.4 which is older than the PTX compiler version 12.6.77. Because the driver is older than the PTX compiler version, XLA is disabling parallel compilation, which may slow down compilation. You should update your NVIDIA driver or use the NVIDIA-provided CUDA forward compatibility packages.\n"
     ]
    }
   ],
   "source": [
    "# Define TrajectoryStep NamedTuple\n",
    "class TrajectoryStep(NamedTuple):\n",
    "    move_index: int\n",
    "    state: tf.Tensor\n",
    "    action: tf.Tensor\n",
    "    next_state: tf.Tensor\n",
    "    reward: tf.Tensor\n",
    "\n",
    "def fixup_reward(x: float) -> float:\n",
    "    return (x + 1) / 2\n",
    "\n",
    "# Load trajectories\n",
    "game_name = \"connect4\"\n",
    "trajectories_glob = os.path.join(\"..\", \"data\", \"trajectories\", game_name, \"*.trajectory.npy\")\n",
    "trajectories = trajectory.load_trajectories(trajectories_glob)\n",
    "\n",
    "print(f'trajectories_glob: {trajectories_glob}')\n",
    "print(f'num_trajectories: {len(trajectories)}')\n",
    "\n",
    "# Unroll trajectories\n",
    "def unroll_trajectory(encoded_trajectories):\n",
    "    for t in encoded_trajectories:\n",
    "        for i in range(t.length - 1):\n",
    "            state = tf.convert_to_tensor(t.states[i], dtype=tf.float32)\n",
    "            next_state = tf.convert_to_tensor(t.states[i + 1], dtype=tf.float32)\n",
    "            action = tf.convert_to_tensor(t.actions[i], dtype=tf.int32)\n",
    "            reward = tf.convert_to_tensor(fixup_reward(t.final_rewards[0]), dtype=tf.float32)\n",
    "            \n",
    "            yield TrajectoryStep(i, state, action, next_state, reward)\n",
    "\n",
    "all_trajectory_steps = list(unroll_trajectory(trajectories))\n"
   ]
  },
  {
   "cell_type": "code",
   "execution_count": 8,
   "id": "ad9f18ab",
   "metadata": {},
   "outputs": [
    {
     "name": "stdout",
     "output_type": "stream",
     "text": [
      "state shape:  (22835, 43)\n",
      "action shape: (22835,)\n",
      "reward shape: (22835,)\n"
     ]
    }
   ],
   "source": [
    "# Prepare batches\n",
    "state_batch = tf.stack([t.state for t in all_trajectory_steps])\n",
    "action_batch = tf.stack([t.action for t in all_trajectory_steps])\n",
    "reward_batch = tf.stack([t.reward for t in all_trajectory_steps])\n",
    "\n",
    "print(f'state shape:  {state_batch.shape}')\n",
    "print(f'action shape: {action_batch.shape}')\n",
    "print(f'reward shape: {reward_batch.shape}')"
   ]
  },
  {
   "cell_type": "markdown",
   "id": "65639775",
   "metadata": {},
   "source": [
    "# Define Models"
   ]
  },
  {
   "cell_type": "code",
   "execution_count": 42,
   "id": "46a469dc",
   "metadata": {},
   "outputs": [],
   "source": [
    "# Define models - original. Fails.\n",
    "class Connect4StateEmbedder(keras.Model):\n",
    "    def __init__(self, embedding_dim=64, hidden_dim=256):\n",
    "        super().__init__()\n",
    "        self.embedding_dim = embedding_dim\n",
    "        self.hidden_dim = hidden_dim\n",
    "        \n",
    "        self.conv1 = keras.layers.Conv2D(32, kernel_size=3, padding='same', activation='relu')\n",
    "        self.conv2 = keras.layers.Conv2D(64, kernel_size=3, padding='same', activation='relu')\n",
    "        self.flatten = keras.layers.Flatten()\n",
    "        self.dense1 = keras.layers.Dense(self.hidden_dim, activation='relu')\n",
    "        self.dense2 = keras.layers.Dense(self.embedding_dim)\n",
    "    \n",
    "    def call(self, inputs):\n",
    "        x = self._state_to_array(inputs)\n",
    "        x = self.conv1(x)\n",
    "        x = self.conv2(x)\n",
    "        x = self.flatten(x)\n",
    "        x = self.dense1(x)\n",
    "        return self.dense2(x)\n",
    "    \n",
    "    def _state_to_array(self, encoded_state_batch):\n",
    "        return tf.reshape(encoded_state_batch[:, :-1], [-1, 6, 7, 1])"
   ]
  },
  {
   "cell_type": "code",
   "execution_count": 43,
   "id": "73e6fd22",
   "metadata": {},
   "outputs": [],
   "source": [
    "def test_state_embedder():\n",
    "    state_embedder = Connect4StateEmbedder()\n",
    "    sample_state = tf.random.normal((2, 43))  # 2 sample states\n",
    "    output = state_embedder(sample_state)\n",
    "    print(\"State Embedder output shape:\", output.shape)\n",
    "    assert output.shape == (2, 64), f\"Expected shape (2, 64), got {output.shape}\"\n",
    "\n",
    "# Force CPU mode.\n",
    "#with tf.device('/CPU:0'):\n",
    "#    test_state_embedder() "
   ]
  },
  {
   "cell_type": "code",
   "execution_count": 44,
   "id": "b0d98d7f",
   "metadata": {},
   "outputs": [
    {
     "name": "stdout",
     "output_type": "stream",
     "text": [
      "State Embedder output shape: (2, 64)\n"
     ]
    }
   ],
   "source": [
    "# Test on GPU\n",
    "test_state_embedder()"
   ]
  },
  {
   "cell_type": "code",
   "execution_count": 45,
   "id": "bad70439",
   "metadata": {},
   "outputs": [],
   "source": [
    "class Connect4ActionEmbedder(keras.Model):\n",
    "    def __init__(self, embedding_dim: int = 64, num_actions: int = 7):\n",
    "        super().__init__()\n",
    "        self.embedding_dim = embedding_dim\n",
    "        self.num_actions = num_actions\n",
    "        self.embedding = keras.layers.Embedding(num_actions, embedding_dim)\n",
    "    \n",
    "    def call(self, inputs: tf.Tensor) -> tf.Tensor:\n",
    "        return self.embedding(inputs - 1)\n",
    "    \n",
    "    def all_action_embeddings(self) -> tf.Tensor:\n",
    "        return self.embedding(tf.range(self.num_actions))"
   ]
  },
  {
   "cell_type": "code",
   "execution_count": 46,
   "id": "ad86cf73",
   "metadata": {},
   "outputs": [
    {
     "name": "stdout",
     "output_type": "stream",
     "text": [
      "Action Embedder output shape: (4, 64)\n"
     ]
    }
   ],
   "source": [
    "# After defining the Connect4ActionEmbedder class\n",
    "def test_action_embedder():\n",
    "    action_embedder = Connect4ActionEmbedder()\n",
    "    sample_actions = tf.constant([1, 3, 5, 7])  # 4 sample actions\n",
    "    output = action_embedder(sample_actions)\n",
    "    print(\"Action Embedder output shape:\", output.shape)\n",
    "    assert output.shape == (4, 64), f\"Expected shape (4, 64), got {output.shape}\"\n",
    "\n",
    "test_action_embedder()"
   ]
  },
  {
   "cell_type": "code",
   "execution_count": 47,
   "id": "93e03d2b",
   "metadata": {},
   "outputs": [],
   "source": [
    "class PredictionModel(keras.Model):\n",
    "    def __init__(self, state_embedder: keras.Model, action_embedder: keras.Model, embedding_dim: int = 64, num_actions: int = 7):\n",
    "        super().__init__()\n",
    "        self.state_embedder = state_embedder\n",
    "        self.action_embedder = action_embedder\n",
    "        self.embedding_dim = embedding_dim\n",
    "        self.num_actions = num_actions\n",
    "        self.reward_head = keras.layers.Dense(1)\n",
    "        \n",
    "        # Call build method to initialize weights\n",
    "        self.build((None, 43))  # Assuming input shape is (batch_size, 43)\n",
    "    \n",
    "    def build(self, input_shape):\n",
    "        # This ensures that all layers are built\n",
    "        self.state_embedder.build(input_shape)\n",
    "        self.action_embedder.build((None,))\n",
    "        self.reward_head.build((None, self.embedding_dim))\n",
    "        super().build(input_shape)\n",
    "    \n",
    "    def call(self, inputs):\n",
    "        state_embeddings = self.state_embedder(inputs)\n",
    "        action_embeddings = self.action_embedder.all_action_embeddings()\n",
    "        action_logits = tf.matmul(state_embeddings, action_embeddings, transpose_b=True)\n",
    "        reward_pred = self.reward_head(state_embeddings)\n",
    "        return action_logits, reward_pred\n",
    "    \n",
    "    def action_probs(self, state_batch):\n",
    "        action_logits, _ = self(state_batch)\n",
    "        return tf.nn.softmax(action_logits)\n",
    "    \n",
    "    def reward_pred(self, state_batch):\n",
    "        _, reward_pred = self(state_batch)\n",
    "        return reward_pred"
   ]
  },
  {
   "cell_type": "code",
   "execution_count": 48,
   "id": "3d714707",
   "metadata": {},
   "outputs": [
    {
     "name": "stdout",
     "output_type": "stream",
     "text": [
      "Action logits shape: (3, 7)\n",
      "Reward prediction shape: (3, 1)\n",
      "Action probabilities shape: (3, 7)\n"
     ]
    },
    {
     "name": "stderr",
     "output_type": "stream",
     "text": [
      "/home/vscode/.local/lib/python3.10/site-packages/keras/src/layers/layer.py:391: UserWarning: `build()` was called on layer 'connect4_state_embedder_14', however the layer does not have a `build()` method implemented and it looks like it has unbuilt state. This will cause the layer to be marked as built, despite not being actually built, which may cause failures down the line. Make sure to implement a proper `build()` method.\n",
      "  warnings.warn(\n",
      "/home/vscode/.local/lib/python3.10/site-packages/keras/src/layers/layer.py:391: UserWarning: `build()` was called on layer 'connect4_action_embedder_12', however the layer does not have a `build()` method implemented and it looks like it has unbuilt state. This will cause the layer to be marked as built, despite not being actually built, which may cause failures down the line. Make sure to implement a proper `build()` method.\n",
      "  warnings.warn(\n"
     ]
    }
   ],
   "source": [
    "# After defining the PredictionModel class\n",
    "def test_prediction_model():\n",
    "    state_embedder = Connect4StateEmbedder()\n",
    "    action_embedder = Connect4ActionEmbedder()\n",
    "    prediction_model = PredictionModel(state_embedder, action_embedder)\n",
    "    \n",
    "    sample_state = tf.random.normal((3, 43))  # 3 sample states\n",
    "    action_logits, reward_pred = prediction_model(sample_state)\n",
    "    \n",
    "    print(\"Action logits shape:\", action_logits.shape)\n",
    "    print(\"Reward prediction shape:\", reward_pred.shape)\n",
    "    \n",
    "    assert action_logits.shape == (3, 7), f\"Expected action logits shape (3, 7), got {action_logits.shape}\"\n",
    "    assert reward_pred.shape == (3, 1), f\"Expected reward prediction shape (3, 1), got {reward_pred.shape}\"\n",
    "    \n",
    "    action_probs = prediction_model.action_probs(sample_state)\n",
    "    print(\"Action probabilities shape:\", action_probs.shape)\n",
    "    assert action_probs.shape == (3, 7), f\"Expected action probabilities shape (3, 7), got {action_probs.shape}\"\n",
    "    \n",
    "    # Check if probabilities sum to 1\n",
    "    prob_sums = tf.reduce_sum(action_probs, axis=1)\n",
    "    tf.debugging.assert_near(prob_sums, tf.ones_like(prob_sums), atol=1e-6)\n",
    "\n",
    "test_prediction_model()"
   ]
  },
  {
   "cell_type": "code",
   "execution_count": 49,
   "id": "e0bd0ec5",
   "metadata": {},
   "outputs": [],
   "source": [
    "# Loss function\n",
    "def loss_fn(prediction_model, batch, l2_weight=1e-4):\n",
    "    action_logits, reward_pred = prediction_model(batch['state'])\n",
    "    action_labels = batch['action'] - 1\n",
    "    action_data_loss = tf.reduce_mean(tf.nn.sparse_softmax_cross_entropy_with_logits(labels=action_labels, logits=action_logits))\n",
    "    \n",
    "    reward_data_loss = tf.reduce_mean(tf.square(reward_pred - tf.expand_dims(batch['reward'], -1)))\n",
    "    \n",
    "    l2_loss = tf.add_n([tf.nn.l2_loss(v) for v in prediction_model.trainable_variables])\n",
    "    \n",
    "    total_loss = action_data_loss + reward_data_loss + l2_weight * l2_loss\n",
    "    return total_loss, (action_logits, reward_pred)"
   ]
  },
  {
   "cell_type": "code",
   "execution_count": 50,
   "id": "5282c84a",
   "metadata": {},
   "outputs": [
    {
     "name": "stdout",
     "output_type": "stream",
     "text": [
      "Loss: 2.3576984\n",
      "Action logits shape: (5, 7)\n",
      "Reward prediction shape: (5, 1)\n"
     ]
    },
    {
     "name": "stderr",
     "output_type": "stream",
     "text": [
      "/home/vscode/.local/lib/python3.10/site-packages/keras/src/layers/layer.py:391: UserWarning: `build()` was called on layer 'connect4_state_embedder_15', however the layer does not have a `build()` method implemented and it looks like it has unbuilt state. This will cause the layer to be marked as built, despite not being actually built, which may cause failures down the line. Make sure to implement a proper `build()` method.\n",
      "  warnings.warn(\n",
      "/home/vscode/.local/lib/python3.10/site-packages/keras/src/layers/layer.py:391: UserWarning: `build()` was called on layer 'connect4_action_embedder_13', however the layer does not have a `build()` method implemented and it looks like it has unbuilt state. This will cause the layer to be marked as built, despite not being actually built, which may cause failures down the line. Make sure to implement a proper `build()` method.\n",
      "  warnings.warn(\n"
     ]
    }
   ],
   "source": [
    "# After defining the loss_fn\n",
    "def test_loss_fn():\n",
    "    state_embedder = Connect4StateEmbedder()\n",
    "    action_embedder = Connect4ActionEmbedder()\n",
    "    prediction_model = PredictionModel(state_embedder, action_embedder)\n",
    "    \n",
    "    sample_batch = {\n",
    "        'state': tf.random.normal((5, 43)),\n",
    "        'action': tf.random.uniform((5,), minval=1, maxval=8, dtype=tf.int32),\n",
    "        'reward': tf.random.uniform((5,))\n",
    "    }\n",
    "    \n",
    "    loss, (action_logits, reward_pred) = loss_fn(prediction_model, sample_batch)\n",
    "    \n",
    "    print(\"Loss:\", loss.numpy())\n",
    "    print(\"Action logits shape:\", action_logits.shape)\n",
    "    print(\"Reward prediction shape:\", reward_pred.shape)\n",
    "    \n",
    "    assert isinstance(loss, tf.Tensor), f\"Expected loss to be a tensor, got {type(loss)}\"\n",
    "    assert action_logits.shape == (5, 7), f\"Expected action logits shape (5, 7), got {action_logits.shape}\"\n",
    "    assert reward_pred.shape == (5, 1), f\"Expected reward prediction shape (5, 1), got {reward_pred.shape}\"\n",
    "\n",
    "test_loss_fn()\n"
   ]
  },
  {
   "cell_type": "code",
   "execution_count": 51,
   "id": "c2f56eef",
   "metadata": {},
   "outputs": [],
   "source": [
    "\n",
    "# Training step\n",
    "def train_step(prediction_model, optimizer, batch):\n",
    "    with tf.GradientTape() as tape:\n",
    "        loss, (logits, reward_pred) = loss_fn(prediction_model, batch)\n",
    "    gradients = tape.gradient(loss, prediction_model.trainable_variables)\n",
    "    optimizer.apply_gradients(zip(gradients, prediction_model.trainable_variables))\n",
    "    return loss, logits, reward_pred\n",
    "\n",
    "# Main training loop\n",
    "def train_model(print_logits=False, num_epochs=10, batch_size=64):\n",
    "    state_embedder = Connect4StateEmbedder()\n",
    "    action_embedder = Connect4ActionEmbedder()\n",
    "    prediction_model = PredictionModel(state_embedder, action_embedder)\n",
    "    optimizer = keras.optimizers.Adam(learning_rate=0.0005)\n",
    "    \n",
    "    dataset = tf.data.Dataset.from_tensor_slices((state_batch, action_batch, reward_batch))\n",
    "    dataset = dataset.shuffle(buffer_size=len(all_trajectory_steps)).batch(batch_size)\n",
    "    \n",
    "    for epoch in range(num_epochs):\n",
    "        total_loss = 0\n",
    "        for i, (states, actions, rewards) in enumerate(dataset):\n",
    "            batch = {'state': states, 'action': actions, 'reward': rewards}\n",
    "            loss, logits, reward_pred = train_step(prediction_model, optimizer, batch)\n",
    "            total_loss += loss\n",
    "            \n",
    "            if (i + 1) % 100 == 0:\n",
    "                print(f'Epoch [{epoch+1}/{num_epochs}], Step [{i+1}/{len(all_trajectory_steps)//batch_size}], Loss: {loss.numpy():.4f}')\n",
    "        \n",
    "        avg_loss = total_loss / (len(all_trajectory_steps) // batch_size)\n",
    "        print(f'Epoch [{epoch+1}/{num_epochs}], Average Loss: {avg_loss:.4f}')\n",
    "        \n",
    "        if print_logits:\n",
    "            for j in range(4):\n",
    "                state = tf.expand_dims(states[j], 0)\n",
    "                action_probs = prediction_model.action_probs(state)\n",
    "                reward_pred = prediction_model.reward_pred(state).numpy()[0][0]\n",
    "                reward_true = rewards[j].numpy()\n",
    "                print(j, f'r={reward_true:.4f} p={reward_pred:.4f}', action_probs.numpy())\n",
    "            print()\n",
    "    \n",
    "    return prediction_model"
   ]
  },
  {
   "cell_type": "code",
   "execution_count": 52,
   "id": "ab35f16c",
   "metadata": {},
   "outputs": [
    {
     "name": "stderr",
     "output_type": "stream",
     "text": [
      "/home/vscode/.local/lib/python3.10/site-packages/keras/src/layers/layer.py:391: UserWarning: `build()` was called on layer 'connect4_state_embedder_16', however the layer does not have a `build()` method implemented and it looks like it has unbuilt state. This will cause the layer to be marked as built, despite not being actually built, which may cause failures down the line. Make sure to implement a proper `build()` method.\n",
      "  warnings.warn(\n",
      "/home/vscode/.local/lib/python3.10/site-packages/keras/src/layers/layer.py:391: UserWarning: `build()` was called on layer 'connect4_action_embedder_14', however the layer does not have a `build()` method implemented and it looks like it has unbuilt state. This will cause the layer to be marked as built, despite not being actually built, which may cause failures down the line. Make sure to implement a proper `build()` method.\n",
      "  warnings.warn(\n"
     ]
    },
    {
     "name": "stdout",
     "output_type": "stream",
     "text": [
      "Epoch [1/10], Step [100/356], Loss: 2.1972\n",
      "Epoch [1/10], Step [200/356], Loss: 2.1949\n",
      "Epoch [1/10], Step [300/356], Loss: 2.1764\n"
     ]
    },
    {
     "name": "stderr",
     "output_type": "stream",
     "text": [
      "2024-10-17 00:46:21.653708: I tensorflow/core/framework/local_rendezvous.cc:405] Local rendezvous is aborting with status: OUT_OF_RANGE: End of sequence\n"
     ]
    },
    {
     "name": "stdout",
     "output_type": "stream",
     "text": [
      "Epoch [1/10], Average Loss: 2.2127\n",
      "0 r=0.0000 p=0.5832 [[0.14328542 0.14001538 0.14318919 0.14771304 0.13766432 0.14400549\n",
      "  0.14412719]]\n",
      "1 r=0.0000 p=0.2180 [[0.14174928 0.14107995 0.14175102 0.14766948 0.13927938 0.1445238\n",
      "  0.14394705]]\n",
      "2 r=0.0000 p=0.2965 [[0.14365692 0.14041342 0.14397071 0.14524876 0.14057101 0.14363462\n",
      "  0.14250456]]\n",
      "3 r=0.0000 p=0.4129 [[0.14202298 0.14172916 0.1426362  0.14665827 0.14078775 0.14340623\n",
      "  0.14275937]]\n",
      "\n",
      "Epoch [2/10], Step [100/356], Loss: 2.1618\n",
      "Epoch [2/10], Step [200/356], Loss: 2.1618\n",
      "Epoch [2/10], Step [300/356], Loss: 2.1151\n"
     ]
    },
    {
     "name": "stderr",
     "output_type": "stream",
     "text": [
      "2024-10-17 00:46:35.411995: I tensorflow/core/framework/local_rendezvous.cc:405] Local rendezvous is aborting with status: OUT_OF_RANGE: End of sequence\n"
     ]
    },
    {
     "name": "stdout",
     "output_type": "stream",
     "text": [
      "Epoch [2/10], Average Loss: 2.1578\n",
      "0 r=1.0000 p=0.9765 [[0.14767376 0.12999563 0.1361254  0.1570923  0.13549763 0.14772983\n",
      "  0.14588548]]\n",
      "1 r=0.0000 p=0.6613 [[0.13871919 0.13632214 0.13953085 0.1502517  0.14188133 0.14216723\n",
      "  0.15112758]]\n",
      "2 r=0.0000 p=0.4926 [[0.14630662 0.14108334 0.14351256 0.14545064 0.13720173 0.1471451\n",
      "  0.1393    ]]\n",
      "3 r=1.0000 p=0.8637 [[0.14439763 0.13277633 0.13718966 0.15168189 0.13982089 0.14985637\n",
      "  0.14427726]]\n",
      "\n",
      "Epoch [3/10], Step [100/356], Loss: 2.0713\n",
      "Epoch [3/10], Step [200/356], Loss: 2.1377\n",
      "Epoch [3/10], Step [300/356], Loss: 2.0935\n",
      "Epoch [3/10], Average Loss: 2.1179\n",
      "0 r=1.0000 p=0.7513 [[0.14494765 0.15739755 0.14113164 0.14886838 0.13742116 0.12277129\n",
      "  0.14746237]]\n",
      "1 r=0.0000 p=0.4556 [[0.14181429 0.14000657 0.14385055 0.14906852 0.13937187 0.14267984\n",
      "  0.14320838]]\n",
      "2 r=1.0000 p=0.6179 [[0.15268938 0.14359729 0.13978714 0.13929805 0.1371026  0.14649598\n",
      "  0.1410296 ]]\n",
      "3 r=1.0000 p=0.6753 [[0.14517663 0.14222877 0.14288227 0.14371711 0.14083879 0.13677314\n",
      "  0.14838324]]\n",
      "\n",
      "Epoch [4/10], Step [100/356], Loss: 2.1099\n"
     ]
    }
   ],
   "source": [
    "# Train the model\n",
    "prediction_model = train_model(print_logits=True, num_epochs=10)\n"
   ]
  },
  {
   "cell_type": "code",
   "execution_count": null,
   "id": "e363ba4b",
   "metadata": {},
   "outputs": [],
   "source": [
    "\n",
    "\n",
    "\n",
    "# Save the model\n",
    "prediction_model.save_weights('connect4_prediction_model')\n",
    "\n",
    "# Load the model\n",
    "loaded_model = PredictionModel(Connect4StateEmbedder(), Connect4ActionEmbedder())\n",
    "loaded_model.load_weights('connect4_prediction_model')\n",
    "\n",
    "# Test the loaded model\n",
    "game = connect4.Connect4Game()\n",
    "serializer = connect4.Connect4Serializer()\n",
    "\n",
    "print('Move 0:')\n",
    "s_0 = game.initial_state()\n",
    "state_array = serializer.state_to_jax_array(game, s_0)\n",
    "j_0 = tf.convert_to_tensor(state_array, dtype=tf.float32)\n",
    "j_0 = tf.expand_dims(j_0, 0)\n",
    "\n",
    "print(j_0, prediction_model.reward_pred(j_0).numpy()[0][0], prediction_model.action_probs(j_0).numpy())\n",
    "print(j_0, loaded_model.reward_pred(j_0).numpy()[0][0], loaded_model.action_probs(j_0).numpy())"
   ]
  }
 ],
 "metadata": {
  "kernelspec": {
   "display_name": "Python 3 (ipykernel)",
   "language": "python",
   "name": "python3"
  },
  "language_info": {
   "codemirror_mode": {
    "name": "ipython",
    "version": 3
   },
   "file_extension": ".py",
   "mimetype": "text/x-python",
   "name": "python",
   "nbconvert_exporter": "python",
   "pygments_lexer": "ipython3",
   "version": "3.10.12"
  }
 },
 "nbformat": 4,
 "nbformat_minor": 5
}
