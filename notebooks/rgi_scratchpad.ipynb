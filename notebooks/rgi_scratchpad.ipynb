{
 "cells": [
  {
   "cell_type": "markdown",
   "id": "9c1440ce-9dee-447c-93a5-65b8c7e889e3",
   "metadata": {},
   "source": [
    "# RGI scratchpad"
   ]
  },
  {
   "cell_type": "code",
   "execution_count": 11,
   "id": "5d01a4e2",
   "metadata": {},
   "outputs": [],
   "source": [
    "from typing import Generic, Literal, Sequence, Type, Any\n",
    "import dataclasses\n",
    "from pathlib import Path\n",
    "import importlib\n",
    "\n",
    "import numpy as np\n",
    "\n",
    "from rgi.core.base import TGameState, TAction, TPlayerState\n",
    "from rgi.core.game_registry import GAME_REGISTRY\n",
    "from rgi.core.game_registry import PLAYER_REGISTRY\n",
    "\n",
    "from rgi.core import trajectory\n",
    "from rgi.core import game_runner\n",
    "from rgi.tests import test_utils"
   ]
  },
  {
   "cell_type": "markdown",
   "id": "7f3bedd9",
   "metadata": {},
   "source": [
    "# Play game and record trajectory\n"
   ]
  },
  {
   "cell_type": "code",
   "execution_count": 12,
   "id": "b363f2f7",
   "metadata": {},
   "outputs": [],
   "source": [
    "# Set up game.\n",
    "from rgi.games.connect4 import connect4\n",
    "TGameState, TPlayerState, TAction = connect4.Connect4State, Literal[None], connect4.Action\n",
    "\n",
    "game = connect4.Connect4Game()"
   ]
  },
  {
   "cell_type": "code",
   "execution_count": 13,
   "id": "f2670bfb",
   "metadata": {},
   "outputs": [
    {
     "name": "stdout",
     "output_type": "stream",
     "text": [
      "reloaded_trajectory_equal = True\n"
     ]
    }
   ],
   "source": [
    "# Run simple precomputed trajectory.\n",
    "importlib.reload(trajectory)\n",
    "importlib.reload(game_runner)\n",
    "\n",
    "players = [\n",
    "    test_utils.PresetPlayer[TGameState, TAction](actions=[2,2,2,2]),\n",
    "    test_utils.PresetPlayer[TGameState, TAction](actions=[1,3,4,5]),\n",
    "]\n",
    "\n",
    "runner = game_runner.GameRunner(game, players, verbose=False)\n",
    "original_trajectory = runner.run()\n",
    "\n",
    "# original_trajectory = trajectory.play_game_and_record_trajectory(game, players)\n",
    "original_trajectory.write('trajectory.npz', allow_pickle=False)\n",
    "reloaded_trajectory = trajectory.GameTrajectory.read('trajectory.npz', TGameState, TAction, allow_pickle=True)\n",
    "\n",
    "equality_checker = test_utils.EqualityChecker()\n",
    "print('reloaded_trajectory_equal =', (reloaded_trajectory_equal := equality_checker.check_equality(original_trajectory, reloaded_trajectory)))\n",
    "assert reloaded_trajectory_equal\n"
   ]
  },
  {
   "cell_type": "code",
   "execution_count": 14,
   "id": "5f1db4e5",
   "metadata": {},
   "outputs": [],
   "source": [
    "from rgi.players.random_player.random_player import RandomPlayer\n",
    "random_players = [RandomPlayer[TGameState, TAction]() for _ in range(2)]\n",
    "\n",
    "random_trajectories = [game_runner.GameRunner(game, random_players, verbose=False).run() for _ in range(10)]\n",
    "\n",
    "# [t.game_state[-1] for t in random_trajectories]\n",
    "# [t.game_states[-1] for t in random_trajectories]\n",
    "# [t.final_reward for t in random_trajectories]\n",
    "\n"
   ]
  },
  {
   "cell_type": "code",
   "execution_count": 15,
   "id": "1f283d7e",
   "metadata": {},
   "outputs": [],
   "source": [
    "from rgi.core import archive\n",
    "\n",
    "trajectory_type = trajectory.GameTrajectory[TGameState, TAction]\n",
    "trajectory_items = random_trajectories\n",
    "\n",
    "row_archiver = archive.RowFileArchiver()\n",
    "row_path = \"trajectory_test.rgrows\"\n",
    "row_archiver.write_items(trajectory_items, row_path)\n",
    "row_archive = row_archiver.read_items(row_path, trajectory_type)\n",
    "\n",
    "# column_archiver = archive.ColumnFileArchiver()\n",
    "# column_path = \"trajectory_test.rgcols\"\n",
    "# column_archiver.write_sequence(trajectory_type, trajectory_items, column_path)\n",
    "# column_archive = archive.MMapColumnArchive(column_path, trajectory_type)\n"
   ]
  },
  {
   "cell_type": "code",
   "execution_count": 16,
   "id": "80e70d2b",
   "metadata": {},
   "outputs": [
    {
     "ename": "NotImplementedError",
     "evalue": "Cannot add fields for field `` with unhandled type rgi.core.trajectory.GameTrajectory[rgi.games.connect4.connect4.Connect4State, int]",
     "output_type": "error",
     "traceback": [
      "\u001b[0;31m---------------------------------------------------------------------------\u001b[0m",
      "\u001b[0;31mNotImplementedError\u001b[0m                       Traceback (most recent call last)",
      "Cell \u001b[0;32mIn[16], line 6\u001b[0m\n\u001b[1;32m      4\u001b[0m column_archiver \u001b[38;5;241m=\u001b[39m archive\u001b[38;5;241m.\u001b[39mColumnFileArchiver()\n\u001b[1;32m      5\u001b[0m column_path \u001b[38;5;241m=\u001b[39m \u001b[38;5;124m\"\u001b[39m\u001b[38;5;124mtrajectory_test.rgcols\u001b[39m\u001b[38;5;124m\"\u001b[39m\n\u001b[0;32m----> 6\u001b[0m \u001b[43mcolumn_archiver\u001b[49m\u001b[38;5;241;43m.\u001b[39;49m\u001b[43mwrite_sequence\u001b[49m\u001b[43m(\u001b[49m\u001b[43mtrajectory_type\u001b[49m\u001b[43m,\u001b[49m\u001b[43m \u001b[49m\u001b[43mtrajectory_items\u001b[49m\u001b[43m,\u001b[49m\u001b[43m \u001b[49m\u001b[43mcolumn_path\u001b[49m\u001b[43m)\u001b[49m\n\u001b[1;32m      7\u001b[0m column_archive \u001b[38;5;241m=\u001b[39m archive\u001b[38;5;241m.\u001b[39mMMapColumnArchive(column_path, trajectory_type)\n",
      "File \u001b[0;32m/app/rgi/core/archive.py:418\u001b[0m, in \u001b[0;36mColumnFileArchiver.write_sequence\u001b[0;34m(self, item_type, items, path)\u001b[0m\n\u001b[1;32m    411\u001b[0m \u001b[38;5;28;01mdef\u001b[39;00m\u001b[38;5;250m \u001b[39m\u001b[38;5;21mwrite_sequence\u001b[39m(\n\u001b[1;32m    412\u001b[0m     \u001b[38;5;28mself\u001b[39m,\n\u001b[1;32m    413\u001b[0m     item_type: \u001b[38;5;28mtype\u001b[39m[T] \u001b[38;5;241m|\u001b[39m types\u001b[38;5;241m.\u001b[39mGenericAlias,\n\u001b[1;32m    414\u001b[0m     items: Sequence[T],\n\u001b[1;32m    415\u001b[0m     path: pathlib\u001b[38;5;241m.\u001b[39mPath \u001b[38;5;241m|\u001b[39m \u001b[38;5;28mstr\u001b[39m,\n\u001b[1;32m    416\u001b[0m ) \u001b[38;5;241m-\u001b[39m\u001b[38;5;241m>\u001b[39m \u001b[38;5;28;01mNone\u001b[39;00m:\n\u001b[1;32m    417\u001b[0m \u001b[38;5;250m    \u001b[39m\u001b[38;5;124;03m\"\"\"Save sequence of items to file in column format.\"\"\"\u001b[39;00m\n\u001b[0;32m--> 418\u001b[0m     named_columns \u001b[38;5;241m=\u001b[39m \u001b[38;5;28;43mself\u001b[39;49m\u001b[38;5;241;43m.\u001b[39;49m\u001b[43m_sequence_to_columns_converter\u001b[49m\u001b[38;5;241;43m.\u001b[39;49m\u001b[43mto_columns\u001b[49m\u001b[43m(\u001b[49m\u001b[38;5;124;43m\"\u001b[39;49m\u001b[38;5;124;43m\"\u001b[39;49m\u001b[43m,\u001b[49m\u001b[43m \u001b[49m\u001b[43mitem_type\u001b[49m\u001b[43m,\u001b[49m\u001b[43m \u001b[49m\u001b[43mitems\u001b[49m\u001b[43m)\u001b[49m\n\u001b[1;32m    419\u001b[0m     \u001b[38;5;28;01mreturn\u001b[39;00m \u001b[38;5;28mself\u001b[39m\u001b[38;5;241m.\u001b[39mwrite_columns(path, named_columns, sequence_length\u001b[38;5;241m=\u001b[39m\u001b[38;5;28mlen\u001b[39m(items))\n",
      "File \u001b[0;32m/app/rgi/core/archive.py:193\u001b[0m, in \u001b[0;36mSequenceToColumnConverter.to_columns\u001b[0;34m(self, field_path, item_type, items)\u001b[0m\n\u001b[1;32m    190\u001b[0m     \u001b[38;5;28;01mif\u001b[39;00m base_type \u001b[38;5;129;01mis\u001b[39;00m np\u001b[38;5;241m.\u001b[39mndarray:\n\u001b[1;32m    191\u001b[0m         \u001b[38;5;28;01mreturn\u001b[39;00m \u001b[38;5;28mself\u001b[39m\u001b[38;5;241m.\u001b[39mto_ndarray_columns(field_path, cast(Sequence[np\u001b[38;5;241m.\u001b[39mndarray[Any, Any]], items))\n\u001b[0;32m--> 193\u001b[0m \u001b[38;5;28;01mraise\u001b[39;00m \u001b[38;5;167;01mNotImplementedError\u001b[39;00m(\u001b[38;5;124mf\u001b[39m\u001b[38;5;124m\"\u001b[39m\u001b[38;5;124mCannot add fields for field `\u001b[39m\u001b[38;5;132;01m{\u001b[39;00mfield_path\u001b[38;5;132;01m}\u001b[39;00m\u001b[38;5;124m` with unhandled type \u001b[39m\u001b[38;5;132;01m{\u001b[39;00mitem_type\u001b[38;5;132;01m}\u001b[39;00m\u001b[38;5;124m\"\u001b[39m)\n",
      "\u001b[0;31mNotImplementedError\u001b[0m: Cannot add fields for field `` with unhandled type rgi.core.trajectory.GameTrajectory[rgi.games.connect4.connect4.Connect4State, int]"
     ]
    }
   ],
   "source": [
    "from rgi.core import archive\n",
    "archive = importlib.reload(archive)\n",
    "\n",
    "column_archiver = archive.ColumnFileArchiver()\n",
    "column_path = \"trajectory_test.rgcols\"\n",
    "column_archiver.write_sequence(trajectory_type, trajectory_items, column_path)\n",
    "column_archive = archive.MMapColumnArchive(column_path, trajectory_type)\n",
    "\n"
   ]
  },
  {
   "cell_type": "markdown",
   "id": "09817c41",
   "metadata": {},
   "source": [
    "## Archive Prototype"
   ]
  },
  {
   "cell_type": "markdown",
   "id": "56d70f66",
   "metadata": {},
   "source": [
    "# Memory map pickled row format"
   ]
  },
  {
   "cell_type": "code",
   "execution_count": 17,
   "id": "0a794d19",
   "metadata": {},
   "outputs": [
    {
     "name": "stdout",
     "output_type": "stream",
     "text": [
      "<function RowFileArchiver.get_lookup_fn.<locals>.get_item at 0x795218158900>\n",
      "<function RowFileArchiver.get_lookup_fn.<locals>.get_item at 0x795218158900>\n",
      "7\n"
     ]
    }
   ],
   "source": [
    "import importlib\n",
    "\n",
    "import rgi.core.archive as archive\n",
    "importlib.reload(archive)\n",
    "\n",
    "rfa = archive.RowFileArchiver()\n",
    "fn = rfa.get_lookup_fn(\"mydata.bin\")\n",
    "\n",
    "print(fn)\n",
    "fn.sequence_length = 7\n",
    "print(fn)\n",
    "print(fn.sequence_length)"
   ]
  },
  {
   "cell_type": "markdown",
   "id": "3cd50ee3",
   "metadata": {},
   "source": [
    "# Memmap Example"
   ]
  },
  {
   "cell_type": "code",
   "execution_count": 11,
   "id": "f04aed03",
   "metadata": {},
   "outputs": [
    {
     "name": "stdout",
     "output_type": "stream",
     "text": [
      "Inside NPZ: x.npy compressed? False\n",
      "Loaded array type: <class 'numpy.ndarray'>\n",
      "Array contents: [0 1 2 3 4 5 6 7 8 9]\n"
     ]
    }
   ],
   "source": [
    "import numpy as np\n",
    "import zipfile\n",
    "import os\n",
    "\n",
    "filename = \"test_data.npz\"\n",
    "\n",
    "# Clean up any old file\n",
    "if os.path.exists(filename):\n",
    "    os.remove(filename)\n",
    "\n",
    "# 1. Create some sample data\n",
    "arr = np.arange(10, dtype=np.int64)\n",
    "\n",
    "# 2. Save it as an uncompressed npz\n",
    "np.savez(filename, x=arr)\n",
    "\n",
    "# 3. Check the compression type within the npz file\n",
    "#    We expect 'ZIP_STORED' (i.e. compression type == 0)\n",
    "with zipfile.ZipFile(filename, \"r\") as zf:\n",
    "    for info in zf.infolist():\n",
    "        print(f\"Inside NPZ: {info.filename} compressed?\", info.compress_type != 0)\n",
    "\n",
    "# 4. Load with mmap_mode\n",
    "#    NOTE: we keep a reference to the returned object to keep the file handle open\n",
    "with np.load(filename, mmap_mode=\"r\") as npzfile:\n",
    "    mmapped_arr = npzfile[\"x\"]\n",
    "    print(\"Loaded array type:\", type(mmapped_arr))\n",
    "    print(\"Array contents:\", mmapped_arr)\n"
   ]
  },
  {
   "cell_type": "markdown",
   "id": "f93a219e",
   "metadata": {},
   "source": [
    "### Old Prototype"
   ]
  },
  {
   "cell_type": "code",
   "execution_count": null,
   "id": "793d606b",
   "metadata": {},
   "outputs": [],
   "source": [
    "        \n",
    "class Batch(Generic[T]):\n",
    "    \"\"\"Convenience class to convert a sequence of states & actions into a batch.\n",
    "\n",
    "    >>> from dataclasses import dataclass\n",
    "    >>> import torch\n",
    "    >>> @dataclass\n",
    "    ... class GameState:\n",
    "    ...     score: int\n",
    "    ...     current_player: int\n",
    "    >>> @dataclass\n",
    "    ... class BatchGameState(Batch[GameState]):\n",
    "    ...     score: torch.Tensor\n",
    "    ...     current_player: torch.Tensor\n",
    "    >>> states = [GameState(5, 1), GameState(7, 2)]\n",
    "    >>> batch = BatchGameState.from_sequence(states)\n",
    "    >>> len(batch)\n",
    "    2\n",
    "    >>> batch\n",
    "    BatchGameState(score=tensor([5, 7]), current_player=tensor([1, 2]))\n",
    "    >>> batch[0]\n",
    "    GameState(score=5, current_player=1)\n",
    "    \"\"\"\n",
    "\n",
    "    _unbatch_class: Type[T]\n",
    "\n",
    "    @classmethod\n",
    "    def from_sequence(cls: Type[TBatch], items: Sequence[T]) -> TBatch:\n",
    "        if not items:\n",
    "            raise ValueError(\"Cannot create a batch from an empty sequence\")\n",
    "\n",
    "        cls_fields = set(f.name for f in fields(cls))  # type: ignore\n",
    "        batch_dict = {}\n",
    "        for field in fields(items[0]):  # type: ignore\n",
    "            if field.name not in cls_fields:\n",
    "                continue\n",
    "            values = [getattr(item, field.name) for item in items]\n",
    "            # We need to handle both primitive values and torch.Tensors here.\n",
    "            # torch.tensor(primitive_list) is probably more efficient, but doesn't work for tensors.\n",
    "            batch_dict[field.name] = torch.stack([torch.tensor(value) for value in values])\n",
    "\n",
    "        batch = cls(**batch_dict)\n",
    "        batch._unbatch_class = type(items[0])\n",
    "        return batch\n",
    "\n",
    "    def __getitem__(self, index: int) -> T:\n",
    "        item_dict = {field.name: field.type(getattr(self, field.name)[index]) for field in fields(self)}  # type: ignore\n",
    "        return self._unbatch_class(**item_dict)\n",
    "\n",
    "    def __len__(self) -> int:\n",
    "        return len(getattr(self, fields(self)[0].name))  # type: ignore"
   ]
  },
  {
   "cell_type": "code",
   "execution_count": null,
   "id": "c2f1ff39",
   "metadata": {},
   "outputs": [],
   "source": [
    "class Batchable(Protocol[T]):\n",
    "    \"\"\"Protocol to convert single states & actions into torch.Tensor for batching.\"\"\"\n",
    "\n",
    "    @staticmethod\n",
    "    def from_sequence(items: Sequence[T]) -> \"Batchable[T]\": ...\n",
    "\n",
    "    def __getitem__(self, index: int) -> T: ...\n",
    "\n",
    "    def __len__(self) -> int: ...\n",
    "\n",
    "\n",
    "class Batch(Generic[T]):\n",
    "    \"\"\"Convenience class to convert a sequence of states & actions into a batch.\n",
    "\n",
    "    >>> from dataclasses import dataclass\n",
    "    >>> import torch\n",
    "    >>> @dataclass\n",
    "    ... class GameState:\n",
    "    ...     score: int\n",
    "    ...     current_player: int\n",
    "    >>> @dataclass\n",
    "    ... class BatchGameState(Batch[GameState]):\n",
    "    ...     score: torch.Tensor\n",
    "    ...     current_player: torch.Tensor\n",
    "    >>> states = [GameState(5, 1), GameState(7, 2)]\n",
    "    >>> batch = BatchGameState.from_sequence(states)\n",
    "    >>> len(batch)\n",
    "    2\n",
    "    >>> batch\n",
    "    BatchGameState(score=tensor([5, 7]), current_player=tensor([1, 2]))\n",
    "    >>> batch[0]\n",
    "    GameState(score=5, current_player=1)\n",
    "    \"\"\"\n",
    "\n",
    "    _unbatch_class: Type[T]\n",
    "\n",
    "    @classmethod\n",
    "    def from_sequence(cls: Type[TBatch], items: Sequence[T]) -> TBatch:\n",
    "        if not items:\n",
    "            raise ValueError(\"Cannot create a batch from an empty sequence\")\n",
    "\n",
    "        cls_fields = set(f.name for f in fields(cls))  # type: ignore\n",
    "        batch_dict = {}\n",
    "        for field in fields(items[0]):  # type: ignore\n",
    "            if field.name not in cls_fields:\n",
    "                continue\n",
    "            values = [getattr(item, field.name) for item in items]\n",
    "            # We need to handle both primitive values and torch.Tensors here.\n",
    "            # torch.tensor(primitive_list) is probably more efficient, but doesn't work for tensors.\n",
    "            batch_dict[field.name] = torch.stack([torch.tensor(value) for value in values])\n",
    "\n",
    "        batch = cls(**batch_dict)\n",
    "        batch._unbatch_class = type(items[0])\n",
    "        return batch\n",
    "\n",
    "    def __getitem__(self, index: int) -> T:\n",
    "        item_dict = {field.name: field.type(getattr(self, field.name)[index]) for field in fields(self)}  # type: ignore\n",
    "        return self._unbatch_class(**item_dict)\n",
    "\n",
    "    def __len__(self) -> int:\n",
    "        return len(getattr(self, fields(self)[0].name))  # type: ignore\n",
    "\n",
    "@dataclass\n",
    "class PrimitiveBatch(Generic[T]):\n",
    "    \"\"\"A batch class for primitive types like int, float, etc.\n",
    "\n",
    "    >>> batch = PrimitiveBatch.from_sequence([2,4,6,8])\n",
    "    >>> len(batch)\n",
    "    4\n",
    "    >>> batch\n",
    "    PrimitiveBatch(values=tensor([2, 4, 6, 8]))\n",
    "    >>> batch[0]\n",
    "    2\n",
    "    \"\"\"\n",
    "\n",
    "    values: torch.Tensor\n",
    "\n",
    "    @classmethod\n",
    "    def from_sequence(cls: Type[\"PrimitiveBatch[T]\"], items: Sequence[T]) -> \"PrimitiveBatch[T]\":\n",
    "        if not items:\n",
    "            raise ValueError(\"Cannot create a batch from an empty sequence\")\n",
    "\n",
    "        return cls(values=torch.tensor(items))\n",
    "\n",
    "    def __getitem__(self, index: int) -> T:\n",
    "        return self.values[index].item()  # type: ignore\n",
    "\n",
    "    def __len__(self) -> int:\n",
    "        return self.values.shape[0]\n"
   ]
  },
  {
   "cell_type": "code",
   "execution_count": null,
   "id": "8afd7d7f",
   "metadata": {},
   "outputs": [],
   "source": [
    "from typing import TypeVar, Generic\n",
    "\n",
    "TGameState = TypeVar('TGameState')\n",
    "TArchiveState = TypeVar('TArchiveState')\n",
    "\n",
    "class Archive(Generic[TGameState, TArchiveState]):\n",
    "    def __init__(self):\n",
    "        # Access the original class with type parameters\n",
    "        orig_class = self.__orig_class__\n",
    "        # Extract the type arguments\n",
    "        t_game_state, t_archive_state = orig_class.__args__\n",
    "        print(f\"TGameState type: {t_game_state}\")\n",
    "        print(f\"TArchiveState type: {t_archive_state}\")\n",
    "\n",
    "# Example classes\n",
    "class Foo:\n",
    "    pass\n",
    "\n",
    "class Bar:\n",
    "    pass\n",
    "\n",
    "# Create an instance with specific types\n",
    "a = Archive[Foo, Bar]()\n"
   ]
  },
  {
   "cell_type": "code",
   "execution_count": null,
   "id": "0f3a4705",
   "metadata": {},
   "outputs": [],
   "source": [
    "from dataclasses import dataclass, field\n",
    "from typing import Type, TypeVar, Generic\n",
    "\n",
    "TGameState = TypeVar('TGameState')\n",
    "TArchiveState = TypeVar('TArchiveState')\n",
    "\n",
    "@dataclass\n",
    "class Archive(Generic[TGameState, TArchiveState]):\n",
    "    _game_state_type: Type[TGameState] = field(init=False, repr=False)\n",
    "    _archive_state_type: Type[TArchiveState] = field(init=False, repr=False)\n",
    "\n",
    "    def __init__(self, game_state_type: Type[TGameState], archive_state_type: Type[TArchiveState]):\n",
    "        self._game_state_type = game_state_type\n",
    "        self._archive_state_type = archive_state_type\n",
    "        print(f\"TGameState type: {self._game_state_type}\")\n",
    "        print(f\"TArchiveState type: {self._archive_state_type}\")\n",
    "\n",
    "# Define Foo and Bar as example dataclasses\n",
    "@dataclass\n",
    "class Foo:\n",
    "    name: str = \"Foo example\"\n",
    "\n",
    "@dataclass\n",
    "class Bar:\n",
    "    value: int = 42\n",
    "\n",
    "# Instantiate Archive by passing the types\n",
    "a = Archive(Foo, Bar)\n"
   ]
  },
  {
   "cell_type": "code",
   "execution_count": null,
   "id": "2d36a1ed",
   "metadata": {},
   "outputs": [],
   "source": [
    "from dataclasses import dataclass, field\n",
    "from typing import Type, TypeVar, Generic\n",
    "\n",
    "TGameState = TypeVar('TGameState')\n",
    "TArchiveState = TypeVar('TArchiveState')\n",
    "\n",
    "class Archive(Generic[TGameState, TArchiveState]):\n",
    "\n",
    "    def __init__(self, game_state_type: Type[TGameState], archive_state_type: Type[TArchiveState]):\n",
    "        self._game_state_type = game_state_type\n",
    "        self._archive_state_type = archive_state_type\n",
    "        print(f\"TGameState type: {self._game_state_type}\")\n",
    "        print(f\"TArchiveState type: {self._archive_state_type}\")\n",
    "\n",
    "# Define Foo and Bar as example dataclasses\n",
    "@dataclass\n",
    "class Foo:\n",
    "    name: str = \"Foo example\"\n",
    "\n",
    "@dataclass\n",
    "class Bar:\n",
    "    value: int = 42\n",
    "\n",
    "# Instantiate Archive by passing the types\n",
    "a = Archive(Foo, Bar)\n"
   ]
  }
 ],
 "metadata": {
  "kernelspec": {
   "display_name": "Python 3 (ipykernel)",
   "language": "python",
   "name": "python3"
  },
  "language_info": {
   "codemirror_mode": {
    "name": "ipython",
    "version": 3
   },
   "file_extension": ".py",
   "mimetype": "text/x-python",
   "name": "python",
   "nbconvert_exporter": "python",
   "pygments_lexer": "ipython3",
   "version": "3.12.3"
  }
 },
 "nbformat": 4,
 "nbformat_minor": 5
}
