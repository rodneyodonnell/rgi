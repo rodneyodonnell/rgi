{
 "cells": [
  {
   "cell_type": "markdown",
   "id": "9c1440ce-9dee-447c-93a5-65b8c7e889e3",
   "metadata": {},
   "source": [
    "# RGI scratchpad"
   ]
  },
  {
   "cell_type": "code",
   "execution_count": null,
   "id": "137f460d-c44a-4e62-b894-3826d8a547a2",
   "metadata": {},
   "outputs": [],
   "source": [
    "from rgi.games.connect4 import Connect4\n",
    "from rgi.players.random_player import RandomPlayer\n",
    "from rgi.players.human_player import HumanPlayer\n",
    "from rgi.core.game_runner import run_match\n",
    "\n",
    "game = Connect4()\n",
    "players = [HumanPlayer(), RandomPlayer()]\n",
    "\n",
    "average_rewards = run_match(game, players, num_games=3)\n",
    "print(f\"Average rewards: {average_rewards}\")"
   ]
  },
  {
   "cell_type": "code",
   "execution_count": null,
   "id": "21bd8536-28d0-447b-a951-f950511efb99",
   "metadata": {},
   "outputs": [],
   "source": []
  }
 ],
 "metadata": {
  "kernelspec": {
   "display_name": "Python 3 (ipykernel)",
   "language": "python",
   "name": "python3"
  },
  "language_info": {
   "codemirror_mode": {
    "name": "ipython",
    "version": 3
   },
   "file_extension": ".py",
   "mimetype": "text/x-python",
   "name": "python",
   "nbconvert_exporter": "python",
   "pygments_lexer": "ipython3",
   "version": "3.11.0rc1"
  }
 },
 "nbformat": 4,
 "nbformat_minor": 5
}
