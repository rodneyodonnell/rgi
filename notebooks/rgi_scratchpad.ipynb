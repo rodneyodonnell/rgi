{
 "cells": [
  {
   "cell_type": "markdown",
   "id": "9c1440ce-9dee-447c-93a5-65b8c7e889e3",
   "metadata": {},
   "source": [
    "# RGI scratchpad"
   ]
  },
  {
   "cell_type": "code",
   "execution_count": 2,
   "id": "aaa165a8",
   "metadata": {},
   "outputs": [],
   "source": [
    "from dataclasses import dataclass\n",
    "from typing import Generic, Any, Optional, Callable\n",
    "\n",
    "from flax.training import train_state, checkpoints\n",
    "import optax\n",
    "import jax.numpy as jnp\n",
    "import jax\n",
    "\n",
    "from rgi.core.base import (\n",
    "    Game,\n",
    "    GameSerializer,\n",
    "    TGameState,\n",
    "    TPlayerState,\n",
    "    TAction,\n",
    "    TPlayerId,\n",
    "    Player,\n",
    ")\n",
    "from rgi.games import connect4\n",
    "from rgi.players.zerozero.zerozero_player import ZeroZeroPlayer\n",
    "from rgi.players.minimax_player import MinimaxPlayer\n",
    "from rgi.players.random_player import RandomPlayer\n",
    "from rgi.players.human_player import HumanPlayer\n",
    "from rgi.players.zerozero.zerozero_model import (\n",
    "    StateEmbedder,\n",
    "    ActionEmbedder,\n",
    "    ZeroZeroModel,\n",
    ")\n",
    "import os\n",
    "from flax.training import checkpoints"
   ]
  },
  {
   "cell_type": "code",
   "execution_count": 3,
   "id": "b3a4927a",
   "metadata": {},
   "outputs": [
    {
     "data": {
      "text/plain": [
       "[CudaDevice(id=0)]"
      ]
     },
     "execution_count": 3,
     "metadata": {},
     "output_type": "execute_result"
    }
   ],
   "source": [
    "jax.devices()"
   ]
  },
  {
   "cell_type": "code",
   "execution_count": 6,
   "id": "347a57cb",
   "metadata": {},
   "outputs": [
    {
     "data": {
      "text/plain": [
       "'NVIDIA GeForce RTX 2070 SUPER'"
      ]
     },
     "execution_count": 6,
     "metadata": {},
     "output_type": "execute_result"
    }
   ],
   "source": [
    "d = jax.devices()[0]\n",
    "d.device_kind"
   ]
  },
  {
   "cell_type": "code",
   "execution_count": 1,
   "id": "137f460d-c44a-4e62-b894-3826d8a547a2",
   "metadata": {},
   "outputs": [
    {
     "ename": "ImportError",
     "evalue": "cannot import name 'Connect4' from 'rgi.games.connect4' (/app/rgi/games/connect4/__init__.py)",
     "output_type": "error",
     "traceback": [
      "\u001b[0;31m---------------------------------------------------------------------------\u001b[0m",
      "\u001b[0;31mImportError\u001b[0m                               Traceback (most recent call last)",
      "Cell \u001b[0;32mIn[1], line 1\u001b[0m\n\u001b[0;32m----> 1\u001b[0m \u001b[38;5;28;01mfrom\u001b[39;00m \u001b[38;5;21;01mrgi\u001b[39;00m\u001b[38;5;21;01m.\u001b[39;00m\u001b[38;5;21;01mgames\u001b[39;00m\u001b[38;5;21;01m.\u001b[39;00m\u001b[38;5;21;01mconnect4\u001b[39;00m \u001b[38;5;28;01mimport\u001b[39;00m Connect4\n\u001b[1;32m      2\u001b[0m \u001b[38;5;28;01mfrom\u001b[39;00m \u001b[38;5;21;01mrgi\u001b[39;00m\u001b[38;5;21;01m.\u001b[39;00m\u001b[38;5;21;01mplayers\u001b[39;00m\u001b[38;5;21;01m.\u001b[39;00m\u001b[38;5;21;01mrandom_player\u001b[39;00m \u001b[38;5;28;01mimport\u001b[39;00m RandomPlayer\n\u001b[1;32m      3\u001b[0m \u001b[38;5;28;01mfrom\u001b[39;00m \u001b[38;5;21;01mrgi\u001b[39;00m\u001b[38;5;21;01m.\u001b[39;00m\u001b[38;5;21;01mplayers\u001b[39;00m\u001b[38;5;21;01m.\u001b[39;00m\u001b[38;5;21;01mhuman_player\u001b[39;00m \u001b[38;5;28;01mimport\u001b[39;00m HumanPlayer\n",
      "\u001b[0;31mImportError\u001b[0m: cannot import name 'Connect4' from 'rgi.games.connect4' (/app/rgi/games/connect4/__init__.py)"
     ]
    }
   ],
   "source": [
    "from rgi.games.connect4 import Connect4\n",
    "from rgi.players.random_player import RandomPlayer\n",
    "from rgi.players.human_player import HumanPlayer\n",
    "from rgi.core.game_runner import run_match\n",
    "\n",
    "game = Connect4()\n",
    "players = [HumanPlayer(), RandomPlayer()]\n",
    "\n",
    "average_rewards = run_match(game, players, num_games=3)\n",
    "print(f\"Average rewards: {average_rewards}\")"
   ]
  },
  {
   "cell_type": "code",
   "execution_count": null,
   "id": "21bd8536-28d0-447b-a951-f950511efb99",
   "metadata": {},
   "outputs": [],
   "source": []
  }
 ],
 "metadata": {
  "kernelspec": {
   "display_name": "Python 3 (ipykernel)",
   "language": "python",
   "name": "python3"
  },
  "language_info": {
   "codemirror_mode": {
    "name": "ipython",
    "version": 3
   },
   "file_extension": ".py",
   "mimetype": "text/x-python",
   "name": "python",
   "nbconvert_exporter": "python",
   "pygments_lexer": "ipython3",
   "version": "3.10.12"
  }
 },
 "nbformat": 4,
 "nbformat_minor": 5
}
