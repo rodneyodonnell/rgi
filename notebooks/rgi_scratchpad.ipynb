{
 "cells": [
  {
   "cell_type": "markdown",
   "id": "9c1440ce-9dee-447c-93a5-65b8c7e889e3",
   "metadata": {},
   "source": [
    "# RGI scratchpad"
   ]
  },
  {
   "cell_type": "code",
   "execution_count": 3,
   "id": "9f3da65b",
   "metadata": {},
   "outputs": [],
   "source": [
    "import random\n",
    "from rgi.games.count21.count21 import Count21Game"
   ]
  },
  {
   "cell_type": "code",
   "execution_count": null,
   "id": "a5dd0deb",
   "metadata": {},
   "outputs": [],
   "source": [
    "game = Count21Game()\n",
    "state = game.initial_state()\n",
    "\n",
    "print(f'state:   {game.pretty_str(state)}')\n",
    "\n",
    "while not game.is_terminal(state):\n",
    "    legal_actions = game.legal_actions(state)\n",
    "    action = random.choice(legal_actions)\n",
    "    print(f'action: {action}')\n",
    "    print(f'\\nstate:   {game.pretty_str(state)}')\n",
    "    state = game.next_state(state, action)\n",
    "\n",
    "print(f'\\nfinal state:   {game.pretty_str(state)}')\n",
    "print(f'reward[1]:     {game.reward(state, 1)}')\n",
    "print(f'reward[2]:     {game.reward(state, 2)}')"
   ]
  },
  {
   "cell_type": "code",
   "execution_count": null,
   "id": "71b092b3",
   "metadata": {},
   "outputs": [],
   "source": [
    "import importlib\n",
    "import numpy as np\n",
    "\n",
    "from rgi.games.connect4 import connect4\n",
    "importlib.reload(connect4)\n",
    "\n",
    "game = connect4.Connect4Game()\n",
    "s1 = game.initial_state()\n",
    "\n",
    "s = s1\n",
    "for action in [1,2,1,2,1,2,1,6,6,6,6,6]:\n",
    "    s = game.next_state(s, action)\n",
    "    print(f'\\naction={action}, next state:\\n{game.pretty_str(s)}\\nresult={game.reward(s, 1)},{game.reward(s, 2)}')\n",
    "\n",
    "np.all(s.board != 0).item()"
   ]
  }
 ],
 "metadata": {
  "kernelspec": {
   "display_name": "Python 3 (ipykernel)",
   "language": "python",
   "name": "python3"
  },
  "language_info": {
   "codemirror_mode": {
    "name": "ipython",
    "version": 3
   },
   "file_extension": ".py",
   "mimetype": "text/x-python",
   "name": "python",
   "nbconvert_exporter": "python",
   "pygments_lexer": "ipython3",
   "version": "3.12.3"
  }
 },
 "nbformat": 4,
 "nbformat_minor": 5
}
