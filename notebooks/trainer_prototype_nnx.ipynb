{
 "cells": [
  {
   "cell_type": "markdown",
   "id": "9c1440ce-9dee-447c-93a5-65b8c7e889e3",
   "metadata": {},
   "source": [
    "# Trainer NNX scratchpad\n",
    "\n",
    "Generate training data\n",
    "```\n",
    "python rgi/main.py --game connect4 --player1 random --player2 random --num_games 100 --save_trajectories\n",
    "```"
   ]
  },
  {
   "cell_type": "code",
   "execution_count": 1,
   "id": "a19b2dc9",
   "metadata": {},
   "outputs": [
    {
     "name": "stdout",
     "output_type": "stream",
     "text": [
      "[CudaDevice(id=0)]\n"
     ]
    }
   ],
   "source": [
    "import os\n",
    "from typing import Any\n",
    "\n",
    "from collections import Counter\n",
    "\n",
    "import jax\n",
    "import jax.numpy as jnp\n",
    "from flax import nnx\n",
    "\n",
    "print(jax.devices())\n",
    "assert jax.devices()[0].platform == 'gpu'\n",
    "\n",
    "# print wider lines to stop arrays wrapping so soon. numpy default is 75.\n",
    "jnp.set_printoptions(linewidth=150)"
   ]
  },
  {
   "cell_type": "markdown",
   "id": "48e34972",
   "metadata": {},
   "source": [
    "# Load Trajectories"
   ]
  },
  {
   "cell_type": "code",
   "execution_count": 2,
   "id": "41d5ce5e",
   "metadata": {},
   "outputs": [
    {
     "name": "stdout",
     "output_type": "stream",
     "text": [
      "trajectories_glob: ../data/trajectories/connect4/*.trajectory.npy\n",
      "num_trajectories: 100\n"
     ]
    }
   ],
   "source": [
    "from rgi.core import trajectory\n",
    "\n",
    "game_name = \"connect4\"\n",
    "trajectories_glob = os.path.join(\"..\", \"data\", \"trajectories\", game_name, \"*.trajectory.npy\")\n",
    "trajectories = trajectory.load_trajectories(trajectories_glob)\n",
    "\n",
    "print(f'trajectories_glob: {trajectories_glob}')\n",
    "print(f'num_trajectories: {len(trajectories)}')"
   ]
  },
  {
   "cell_type": "code",
   "execution_count": 3,
   "id": "322895c3",
   "metadata": {},
   "outputs": [
    {
     "name": "stderr",
     "output_type": "stream",
     "text": [
      "2024-10-15 12:56:16.635965: W external/xla/xla/service/gpu/nvptx_compiler.cc:893] The NVIDIA driver's CUDA version is 12.4 which is older than the PTX compiler version 12.6.77. Because the driver is older than the PTX compiler version, XLA is disabling parallel compilation, which may slow down compilation. You should update your NVIDIA driver or use the NVIDIA-provided CUDA forward compatibility packages.\n"
     ]
    },
    {
     "name": "stdout",
     "output_type": "stream",
     "text": [
      "action: 1, win:  14, loss:   9, win_pct: 60.87%\n",
      "action: 2, win:   6, loss:   6, win_pct: 50.00%\n",
      "action: 3, win:   8, loss:   4, win_pct: 66.67%\n",
      "action: 4, win:  11, loss:   3, win_pct: 78.57%\n",
      "action: 5, win:  11, loss:   5, win_pct: 68.75%\n",
      "action: 6, win:   8, loss:   5, win_pct: 61.54%\n",
      "action: 7, win:   5, loss:   5, win_pct: 50.00%\n"
     ]
    }
   ],
   "source": [
    "def print_trajectory_stats():\n",
    "    c = Counter((t.actions[0].item(), t.final_rewards[0].item()) for t in trajectories)\n",
    "    for action in range(1,7+1):\n",
    "        win_count, loss_count = c[(action, 1.0)], c[(action, -1.0)]\n",
    "        print(f'action: {action}, win: {win_count:3d}, loss: {loss_count:3d}, win_pct: {win_count / (win_count + loss_count) * 100:.2f}%')\n",
    "\n",
    "print_trajectory_stats()\n",
    "\n",
    "# num_trajectories: 100\n",
    "# action: 1, win:  14, loss:   9, win_pct: 60.87%\n",
    "# action: 2, win:   6, loss:   6, win_pct: 50.00%\n",
    "# action: 3, win:   8, loss:   4, win_pct: 66.67%\n",
    "# action: 4, win:  11, loss:   3, win_pct: 78.57%\n",
    "# action: 5, win:  11, loss:   5, win_pct: 68.75%\n",
    "# action: 6, win:   8, loss:   5, win_pct: 61.54%\n",
    "# action: 7, win:   5, loss:   5, win_pct: 50.00%"
   ]
  },
  {
   "cell_type": "code",
   "execution_count": 4,
   "id": "5872e996",
   "metadata": {},
   "outputs": [
    {
     "name": "stdout",
     "output_type": "stream",
     "text": [
      "num_trajectory_steps: 2193\n"
     ]
    }
   ],
   "source": [
    "from rgi.core.trajectory import EncodedTrajectory\n",
    "\n",
    "# define trajectory NamedTuple\n",
    "from typing import NamedTuple\n",
    "class TrajectoryStep(NamedTuple):\n",
    "    move_index: int\n",
    "    state: jax.Array\n",
    "    action: jax.Array\n",
    "    next_state: jax.Array\n",
    "    reward: jax.Array\n",
    "\n",
    "\n",
    "def unroll_trajectory(encoded_trajectories: list[EncodedTrajectory]):\n",
    "    for t in encoded_trajectories:\n",
    "        for i in range(t.length - 1):\n",
    "            yield TrajectoryStep(i, t.states[i], t.actions[i], t.states[i + 1], t.state_rewards[i])\n",
    "\n",
    "all_trajecoty_steps = list(unroll_trajectory(trajectories))\n",
    "print(f'num_trajectory_steps: {len(all_trajecoty_steps)}')"
   ]
  },
  {
   "cell_type": "code",
   "execution_count": 5,
   "id": "81c8bc96",
   "metadata": {},
   "outputs": [],
   "source": [
    "state_batch = jnp.array([t.state for t in all_trajecoty_steps])\n",
    "action_batch = jnp.array([t.action for t in all_trajecoty_steps])\n",
    "batch_full = {'state': state_batch, 'action': action_batch}\n",
    "\n",
    "# batch with 1 or 2 steps for testing\n",
    "batch_1 = {'state': state_batch[:1], 'action': action_batch[:1]}\n",
    "batch_2 = {'state': state_batch[:2], 'action': action_batch[:2]}\n",
    "\n",
    "# Super easy to get 100% accuracy.\n",
    "batch_repeated = {'state': jnp.tile(batch_2['state'], (1000,1)), 'action': jnp.tile(batch_2['action'], (1000,))}\n"
   ]
  },
  {
   "cell_type": "markdown",
   "id": "5ce65ffe",
   "metadata": {},
   "source": [
    "# Define models"
   ]
  },
  {
   "cell_type": "code",
   "execution_count": 6,
   "id": "36570865",
   "metadata": {},
   "outputs": [],
   "source": [
    "from rgi.games import connect4\n",
    "game = connect4.Connect4Game()\n",
    "serializer = connect4.Connect4Serializer()"
   ]
  },
  {
   "cell_type": "code",
   "execution_count": 7,
   "id": "44221c2f",
   "metadata": {},
   "outputs": [],
   "source": [
    "class Connect4StateEmbedder(nnx.Module):\n",
    "    embedding_dim: int = 64\n",
    "    hidden_dim: int = 256\n",
    "\n",
    "    def _state_to_array(self, encoded_state_batch: jax.Array) -> jax.Array:\n",
    "        board_array = encoded_state_batch[:, :-1].reshape([-1, 6, 7])\n",
    "        return board_array\n",
    "\n",
    "    def __init__(self, *, rngs: nnx.Rngs):\n",
    "        self.conv1 = nnx.Conv(1, 32, kernel_size=(3, 3), rngs=rngs)\n",
    "        self.conv2 = nnx.Conv(32, 64, kernel_size=(3, 3), rngs=rngs)\n",
    "        self.linear1 = nnx.Linear(6*7*64, self.hidden_dim, rngs=rngs)\n",
    "        self.linear2 = nnx.Linear(self.hidden_dim, self.embedding_dim, rngs=rngs)\n",
    "\n",
    "    def __call__(self, encoded_state_batch: jax.Array):\n",
    "        x = self._state_to_array(encoded_state_batch)\n",
    "        x = x[..., None]  # Add channel dimension\n",
    "        x = nnx.relu(self.conv1(x))\n",
    "        x = nnx.relu(self.conv2(x))\n",
    "        x = x.reshape(x.shape[0], -1)  # Flatten while preserving batch dimension\n",
    "        x = nnx.relu(self.linear1(x))\n",
    "        x = self.linear2(x)\n",
    "\n",
    "        return x\n"
   ]
  },
  {
   "cell_type": "code",
   "execution_count": 19,
   "id": "c3b36c2b",
   "metadata": {},
   "outputs": [
    {
     "name": "stdout",
     "output_type": "stream",
     "text": [
      "[[0. 0. 0. 0. 0. 0. 0. 0. 0. 0. 0. 0. 0. 0. 0. 0. 0. 0. 0. 0. 0. 0. 0. 0. 0. 0. 0. 0. 0. 0. 0. 0. 0. 0. 0. 0. 0. 0. 0. 0. 0. 0. 0. 0. 0. 0. 0. 0. 0.\n",
      "  0. 0. 0. 0. 0. 0. 0. 0. 0. 0. 0. 0. 0. 0. 0.]]\n"
     ]
    }
   ],
   "source": [
    "def test_state_embedder():\n",
    "    state_embedder = Connect4StateEmbedder(rngs=nnx.Rngs(0))\n",
    "    print(state_embedder(trajectories[0].states[:1]))\n",
    "\n",
    "test_state_embedder()"
   ]
  },
  {
   "cell_type": "code",
   "execution_count": 10,
   "id": "c2b11059",
   "metadata": {},
   "outputs": [],
   "source": [
    "class Connect4ActionEmbedder(nnx.Module):\n",
    "    embedding_dim: int = 64\n",
    "    num_actions: int = 7\n",
    "\n",
    "    def __init__(self, *, rngs: nnx.Rngs):\n",
    "        self.embedding = nnx.Embed(num_embeddings=self.num_actions, features=self.embedding_dim, rngs=rngs)\n",
    "\n",
    "    def __call__(self, action: jax.Array) -> jax.Array:\n",
    "        # Ensure action is 0-indexed\n",
    "        action = action - 1\n",
    "        return self.embedding(action)\n",
    "    \n",
    "    def all_action_embeddings(self):\n",
    "        return self(jnp.arange(1,self.num_actions+1))"
   ]
  },
  {
   "cell_type": "code",
   "execution_count": 21,
   "id": "e51cf2ed",
   "metadata": {},
   "outputs": [
    {
     "name": "stdout",
     "output_type": "stream",
     "text": [
      "[[ 6.66427687e-02  1.09368816e-01 -1.89152256e-01  8.17345604e-02 -7.85972252e-02 -1.82855129e-01  1.57606214e-01  1.16470948e-01 -7.91573077e-02\n",
      "   1.19286872e-01 -3.06055341e-02 -2.94262134e-02 -2.04068035e-01  2.47045040e-01 -2.14104000e-02 -1.46370962e-01  3.72717567e-02  6.29766062e-02\n",
      "  -4.52014022e-02 -2.30931133e-01  1.21301249e-01  2.88546652e-01 -3.97264175e-02 -1.19131254e-02  1.30750760e-01  1.29211560e-01  3.51449512e-02\n",
      "   1.26254661e-02  7.07970336e-02  1.36475870e-02  3.25598754e-02  5.28224790e-03 -7.92904049e-02  2.16124147e-01  1.23112321e-01 -5.16295396e-02\n",
      "  -5.90516999e-03 -7.26998299e-02  1.06619947e-01  4.65621985e-02  1.09553948e-01 -3.07245195e-01  6.44185543e-02 -5.80371059e-02  1.00223973e-01\n",
      "  -4.86722216e-02  2.83067394e-02  2.01851264e-01  3.05441283e-02 -9.47859734e-02 -8.36363509e-02 -1.35540087e-02 -5.33435494e-02  7.62056708e-02\n",
      "   8.15421045e-02  1.95111567e-03 -1.68878466e-01 -1.05658814e-01 -2.38340721e-02  6.14980869e-02  7.95577615e-02 -1.57072678e-01  1.64067205e-05\n",
      "   8.12526867e-02]]\n"
     ]
    }
   ],
   "source": [
    "def test_action_embedder():\n",
    "    action_embedder = Connect4ActionEmbedder(rngs=nnx.Rngs(0))\n",
    "    print(action_embedder(trajectories[0].actions[:1]))\n",
    "\n",
    "test_action_embedder()"
   ]
  },
  {
   "cell_type": "code",
   "execution_count": 22,
   "id": "21b1d2f7",
   "metadata": {},
   "outputs": [],
   "source": [
    "class StateToActionModel(nnx.Module):\n",
    "    state_embedder: Connect4StateEmbedder\n",
    "    action_embedder: Connect4ActionEmbedder\n",
    "\n",
    "    embedding_dim: int = 64\n",
    "    num_actions: int = 7\n",
    "\n",
    "    def __init__(self, state_embedder: Connect4StateEmbedder, action_embedder: Connect4ActionEmbedder, *, rngs: nnx.Rngs):\n",
    "        self.state_embedder = state_embedder\n",
    "        self.action_embedder = action_embedder\n",
    "\n",
    "    def __call__(self, state: jax.Array) -> jax.Array:\n",
    "        return self.logits(state)\n",
    "\n",
    "    def logits(self, state_batch: jax.Array) -> jax.Array:\n",
    "        state_embeddings = self.state_embedder(state_batch)\n",
    "        all_action_embeddings = self.action_embedder.all_action_embeddings()\n",
    "        logits = state_embeddings @ all_action_embeddings.T\n",
    "        return logits\n",
    "    \n",
    "    def probs(self, state_batch: jax.Array) -> jax.Array:\n",
    "        logits = self.logits(state_batch)\n",
    "        return jax.nn.softmax(logits)\n"
   ]
  },
  {
   "cell_type": "code",
   "execution_count": 26,
   "id": "7cba82e5",
   "metadata": {},
   "outputs": [
    {
     "name": "stdout",
     "output_type": "stream",
     "text": [
      "logits:\n",
      " [[ 0.          0.          0.          0.          0.          0.          0.        ]\n",
      " [-0.05365274  0.04191583 -0.05556455 -0.0902497  -0.04111161  0.00694049  0.01304063]]\n",
      "\n",
      "probs:\n",
      " [[0.14285715 0.14285715 0.14285715 0.14285715 0.14285715 0.14285715 0.14285715]\n",
      " [0.13876376 0.15267958 0.13849871 0.13377723 0.14051497 0.14743187 0.14833395]]\n"
     ]
    }
   ],
   "source": [
    "def test_state_action_model():\n",
    "    state_embedder = Connect4StateEmbedder(rngs=nnx.Rngs(0))\n",
    "    action_embedder = Connect4ActionEmbedder(rngs=nnx.Rngs(1))\n",
    "    state_action_model = StateToActionModel(state_embedder, action_embedder, rngs=nnx.Rngs(2))\n",
    "    print('logits:\\n', state_action_model.logits(state_batch[:2]))\n",
    "    print('\\nprobs:\\n', state_action_model.probs(state_batch[:2]))\n",
    "\n",
    "test_state_action_model()\n"
   ]
  },
  {
   "cell_type": "markdown",
   "id": "81d7637b",
   "metadata": {},
   "source": [
    "# Train Model"
   ]
  },
  {
   "cell_type": "code",
   "execution_count": 63,
   "id": "267c5832",
   "metadata": {},
   "outputs": [],
   "source": [
    "\n",
    "# learning_rate = 0.005\n",
    "# momentum = 0.9\n",
    "\n",
    "# optimizer = nnx.Optimizer(state_embedder, optax.adamw(learning_rate, momentum))\n",
    "# metrics = nnx.MultiMetric(accuracy=nnx.metrics.Accuracy(), loss=nnx.metrics.Average('loss'))\n"
   ]
  },
  {
   "cell_type": "code",
   "execution_count": 32,
   "id": "9a8d5947",
   "metadata": {},
   "outputs": [],
   "source": [
    "import optax\n",
    "\n",
    "@nnx.jit\n",
    "def l2_loss(model, alpha=0.001):\n",
    "    loss = sum(\n",
    "        (alpha * (w ** 2).sum()) \n",
    "        for w in jax.tree.leaves(nnx.state(model, nnx.Param))\n",
    "    )\n",
    "    return loss\n",
    "\n",
    "@nnx.jit\n",
    "def loss_fn(state_embedder: Connect4StateEmbedder, action_embedder: Connect4ActionEmbedder, batch, l2_weight: float = 1e-4):\n",
    "    state_embeddings = state_embedder(batch['state'])\n",
    "    all_action_embeddings = action_embedder.all_action_embeddings()\n",
    "    logits = state_embeddings @ all_action_embeddings.T\n",
    "\n",
    "    labels = batch['action']-1\n",
    "    data_loss = optax.softmax_cross_entropy_with_integer_labels(logits=logits, labels=labels).mean()\n",
    "\n",
    "    state_embedder_l2 = l2_loss(state_embedder)\n",
    "    action_embedder_l2 = l2_loss(action_embedder)\n",
    "    \n",
    "    param_loss = l2_weight * (state_embedder_l2 + action_embedder_l2)\n",
    "\n",
    "    total_loss = data_loss + param_loss\n",
    "    return total_loss, logits"
   ]
  },
  {
   "cell_type": "code",
   "execution_count": 34,
   "id": "29ed3a9e",
   "metadata": {},
   "outputs": [
    {
     "name": "stdout",
     "output_type": "stream",
     "text": [
      "loss:  1.927142\n",
      "logits:  [[ 0.          0.          0.          0.          0.          0.          0.        ]\n",
      " [-0.05365274  0.04191583 -0.05556455 -0.0902497  -0.04111161  0.00694049  0.01304064]]\n"
     ]
    }
   ],
   "source": [
    "def test_loss_fn():\n",
    "    state_embedder = Connect4StateEmbedder(rngs=nnx.Rngs(0))\n",
    "    action_embedder = Connect4ActionEmbedder(rngs=nnx.Rngs(1))\n",
    "    loss, logits = loss_fn(state_embedder, action_embedder, batch_2)\n",
    "    print('loss: ', loss)\n",
    "    print('logits: ', logits)\n",
    "\n",
    "test_loss_fn()"
   ]
  },
  {
   "cell_type": "code",
   "execution_count": 35,
   "id": "ae318f49",
   "metadata": {},
   "outputs": [],
   "source": [
    "@nnx.jit\n",
    "def train_step(state_embedder: Connect4StateEmbedder, action_embedder: Connect4ActionEmbedder, optimizer: nnx.Optimizer, metrics: nnx.MultiMetric, batch):\n",
    "  \"\"\"Train for a single step.\"\"\"\n",
    "  grad_fn = nnx.value_and_grad(loss_fn, has_aux=True)\n",
    "  (loss, logits), grads = grad_fn(state_embedder, action_embedder, batch)\n",
    "  metrics.update(loss=loss, logits=logits, labels=batch['action']-1)  # In-place updates.\n",
    "  optimizer.update(grads)  # In-place updates.\n",
    "\n",
    "@nnx.jit\n",
    "def eval_step(state_embedder: Connect4StateEmbedder, action_embedder: Connect4ActionEmbedder, metrics: nnx.MultiMetric, batch):\n",
    "  loss, logits = loss_fn(state_embedder, action_embedder, batch)\n",
    "  metrics.update(loss=loss, logits=logits, labels=batch['action'])  # In-place updates."
   ]
  },
  {
   "cell_type": "code",
   "execution_count": 52,
   "id": "6230b03a",
   "metadata": {},
   "outputs": [
    {
     "name": "stdout",
     "output_type": "stream",
     "text": [
      "train_step: 0: {'accuracy': Array(0.14363885, dtype=float32), 'loss': Array(1.9785088, dtype=float32)}\n",
      "0 [[14.4563 14.4022 12.5562 17.7009 13.1094 15.1485 12.6265]] Counter({1: 23, 5: 16, 4: 14, 6: 13, 3: 12, 2: 12, 7: 10})\n",
      "1 [[11.6371 12.0297  5.7556 42.9646  5.8367 16.224   5.5523]] Counter({7: 3, 6: 3, 3: 3, 5: 2, 1: 1, 2: 1})\n",
      "2 [[ 7.8842  8.5035  2.2254 63.7363  2.6249 12.7118  2.3138]] Counter({4: 1, 3: 1, 1: 1})\n",
      "3 [[ 3.7658  4.0274  0.5173 82.5937  0.7845  7.7762  0.5352]] Counter({5: 1})\n",
      "4 [[ 0.9663  1.1183  0.0607 94.4268  0.131   3.2404  0.0565]] Counter({5: 1})\n",
      "\n",
      "train_step: 100: {'accuracy': Array(0.29418987, dtype=float32), 'loss': Array(1.8454852, dtype=float32)}\n",
      "0 [[22.5386 17.2494 11.2021 11.8529  9.2233 17.2992 10.6345]] Counter({1: 23, 5: 16, 4: 14, 6: 13, 3: 12, 2: 12, 7: 10})\n",
      "1 [[ 7.4677  8.4804 27.2941  4.0218  5.8395 24.1607 22.7358]] Counter({7: 3, 6: 3, 3: 3, 5: 2, 1: 1, 2: 1})\n",
      "2 [[14.6115  9.4252 23.7354 23.2455  6.8535 10.8455 11.2835]] Counter({4: 1, 3: 1, 1: 1})\n",
      "3 [[21.832   0.9359  3.3006 12.6099 30.2063  7.9275 23.1878]] Counter({5: 1})\n",
      "4 [[10.9192  1.6686  9.8428  9.1344 27.1694 22.6265 18.639 ]] Counter({5: 1})\n",
      "\n",
      "train_step: 200: {'accuracy': Array(0.52032816, dtype=float32), 'loss': Array(1.256264, dtype=float32)}\n",
      "0 [[18.0047 15.754  14.8728 10.5684 14.824  13.8601 12.116 ]] Counter({1: 23, 5: 16, 4: 14, 6: 13, 3: 12, 2: 12, 7: 10})\n",
      "1 [[ 7.4655  5.5114 26.0551  1.5637 13.6343 25.974  19.796 ]] Counter({7: 3, 6: 3, 3: 3, 5: 2, 1: 1, 2: 1})\n",
      "2 [[12.7772  5.8716 32.6207 38.3623  1.1713  0.0249  9.1719]] Counter({4: 1, 3: 1, 1: 1})\n",
      "3 [[11.5774  0.2036  0.0861  5.7375 75.6097  2.6312  4.1546]] Counter({5: 1})\n",
      "4 [[ 0.0008  0.      0.0005  0.5299 98.4254  1.0411  0.0022]] Counter({5: 1})\n",
      "\n",
      "train_step: 300: {'accuracy': Array(0.6373223, dtype=float32), 'loss': Array(0.93713915, dtype=float32)}\n",
      "0 [[22.5458 12.2679 11.8556 14.8446 15.9678 11.8678 10.6505]] Counter({1: 23, 5: 16, 4: 14, 6: 13, 3: 12, 2: 12, 7: 10})\n",
      "1 [[ 7.7511  6.8105 23.5122  0.3907 14.6399 21.813  25.0825]] Counter({7: 3, 6: 3, 3: 3, 5: 2, 1: 1, 2: 1})\n",
      "2 [[29.4852  0.8262 31.8963 34.3695  0.3684  0.0007  3.0538]] Counter({4: 1, 3: 1, 1: 1})\n",
      "3 [[ 6.7644  0.0065  0.0021  0.758  91.6525  0.2393  0.5772]] Counter({5: 1})\n",
      "4 [[ 0.      0.      0.      0.1687 99.6731  0.1582  0.    ]] Counter({5: 1})\n",
      "\n",
      "train_step: 400: {'accuracy': Array(0.6980008, dtype=float32), 'loss': Array(0.767757, dtype=float32)}\n",
      "0 [[26.4079  9.8429  8.0111 16.4684 14.9603 14.9173  9.3921]] Counter({1: 23, 5: 16, 4: 14, 6: 13, 3: 12, 2: 12, 7: 10})\n",
      "1 [[ 8.8417  6.7517 18.3699  0.211  16.1953 25.8406 23.7899]] Counter({7: 3, 6: 3, 3: 3, 5: 2, 1: 1, 2: 1})\n",
      "2 [[34.7278  0.2426 21.731  42.1571  0.1305  0.0002  1.0108]] Counter({4: 1, 3: 1, 1: 1})\n",
      "3 [[ 3.1035  0.0008  0.0002  0.3161 96.3729  0.0793  0.1272]] Counter({5: 1})\n",
      "4 [[ 0.      0.      0.      0.0482 99.8771  0.0747  0.    ]] Counter({5: 1})\n",
      "\n",
      "train_step: 500: {'accuracy': Array(0.7351599, dtype=float32), 'loss': Array(0.6641568, dtype=float32)}\n",
      "0 [[23.799  11.653  10.5658 14.7108 14.9337 14.1963 10.1414]] Counter({1: 23, 5: 16, 4: 14, 6: 13, 3: 12, 2: 12, 7: 10})\n",
      "1 [[ 7.9941  7.5287 21.5815  0.1306 14.65   24.987  23.1279]] Counter({7: 3, 6: 3, 3: 3, 5: 2, 1: 1, 2: 1})\n",
      "2 [[32.9127  0.1653 29.0394 37.2924  0.0807  0.      0.5094]] Counter({4: 1, 3: 1, 1: 1})\n",
      "3 [[ 1.8613  0.0005  0.0001  0.2338 97.7791  0.0637  0.0615]] Counter({5: 1})\n",
      "4 [[ 0.      0.      0.      0.0549 99.9004  0.0447  0.    ]] Counter({5: 1})\n",
      "\n",
      "train_step: 600: {'accuracy': Array(0.7604122, dtype=float32), 'loss': Array(0.5940224, dtype=float32)}\n",
      "0 [[21.8043 12.1977 12.8366 13.4291 16.5159 12.7584 10.4581]] Counter({1: 23, 5: 16, 4: 14, 6: 13, 3: 12, 2: 12, 7: 10})\n",
      "1 [[ 7.5119  7.592  23.5178  0.0896 15.1889 22.4981 23.6017]] Counter({7: 3, 6: 3, 3: 3, 5: 2, 1: 1, 2: 1})\n",
      "2 [[32.1493  0.1108 34.9609 32.3584  0.0519  0.      0.3685]] Counter({4: 1, 3: 1, 1: 1})\n",
      "3 [[ 1.1501  0.0003  0.0001  0.1294 98.6364  0.0424  0.0413]] Counter({5: 1})\n",
      "4 [[ 0.      0.      0.      0.0174 99.9546  0.028   0.    ]] Counter({5: 1})\n",
      "\n",
      "train_step: 700: {'accuracy': Array(0.77856725, dtype=float32), 'loss': Array(0.54352695, dtype=float32)}\n",
      "0 [[22.8293 12.966  12.4548 13.6647 14.8841 12.949  10.2522]] Counter({1: 23, 5: 16, 4: 14, 6: 13, 3: 12, 2: 12, 7: 10})\n",
      "1 [[ 7.4988  8.0012 23.9748  0.0597 14.831  23.0782 22.5562]] Counter({7: 3, 6: 3, 3: 3, 5: 2, 1: 1, 2: 1})\n",
      "2 [[32.513   0.0775 34.1231 32.9908  0.0507  0.      0.2448]] Counter({4: 1, 3: 1, 1: 1})\n",
      "3 [[ 0.933   0.0002  0.      0.129  98.87    0.0381  0.0297]] Counter({5: 1})\n",
      "4 [[ 0.      0.      0.      0.0005 99.8711  0.1284  0.    ]] Counter({5: 1})\n",
      "\n",
      "train_step: 800: {'accuracy': Array(0.7921892, dtype=float32), 'loss': Array(0.50559676, dtype=float32)}\n",
      "0 [[21.8343 11.5528 11.8914 13.8059 15.7997 14.6629 10.4529]] Counter({1: 23, 5: 16, 4: 14, 6: 13, 3: 12, 2: 12, 7: 10})\n",
      "1 [[ 7.7024  6.6369 22.5762  0.0412 13.4446 24.952  24.6466]] Counter({7: 3, 6: 3, 3: 3, 5: 2, 1: 1, 2: 1})\n",
      "2 [[34.1758  0.0648 34.1638 31.3425  0.0455  0.      0.2076]] Counter({4: 1, 3: 1, 1: 1})\n",
      "3 [[ 0.7497  0.0001  0.      0.1059 99.0848  0.0348  0.0247]] Counter({5: 1})\n",
      "4 [[ 0.      0.      0.      0.0009 99.9583  0.0408  0.    ]] Counter({5: 1})\n",
      "\n",
      "train_step: 900: {'accuracy': Array(0.8028896, dtype=float32), 'loss': Array(0.47595814, dtype=float32)}\n",
      "0 [[20.9944 11.855  12.1818 13.7549 17.1974 13.9795 10.0371]] Counter({1: 23, 5: 16, 4: 14, 6: 13, 3: 12, 2: 12, 7: 10})\n",
      "1 [[ 6.9516  8.0898 25.5932  0.0351 14.0596 25.1478 20.1229]] Counter({7: 3, 6: 3, 3: 3, 5: 2, 1: 1, 2: 1})\n",
      "2 [[32.0691  0.0634 32.5187 35.1463  0.0356  0.      0.1669]] Counter({4: 1, 3: 1, 1: 1})\n",
      "3 [[ 0.594   0.0001  0.      0.1378 99.212   0.0345  0.0215]] Counter({5: 1})\n",
      "4 [[ 0.      0.      0.      0.0014 99.9853  0.0133  0.    ]] Counter({5: 1})\n",
      "\n",
      "train_step: 1000: {'accuracy': Array(0.81158286, dtype=float32), 'loss': Array(0.45199364, dtype=float32)}\n",
      "0 [[24.5942 11.3451 11.7549 15.0424 17.1805 10.8105  9.2725]] Counter({1: 23, 5: 16, 4: 14, 6: 13, 3: 12, 2: 12, 7: 10})\n",
      "1 [[ 7.9236  8.4618 23.774   0.0247 16.9364 22.1186 20.761 ]] Counter({7: 3, 6: 3, 3: 3, 5: 2, 1: 1, 2: 1})\n",
      "2 [[31.5025  0.0405 32.2218 36.1278  0.0281  0.      0.0794]] Counter({4: 1, 3: 1, 1: 1})\n",
      "3 [[ 0.4973  0.0001  0.      0.1129 99.3564  0.02    0.0133]] Counter({5: 1})\n",
      "4 [[ 0.      0.      0.      0.0013 99.9878  0.0109  0.    ]] Counter({5: 1})\n",
      "\n"
     ]
    }
   ],
   "source": [
    "def test_train_step():\n",
    "    state_embedder = Connect4StateEmbedder(rngs=nnx.Rngs(10))\n",
    "    action_embedder = Connect4ActionEmbedder(rngs=nnx.Rngs(1))\n",
    "    state_action_model = StateToActionModel(state_embedder, action_embedder, rngs=nnx.Rngs(2))\n",
    "    optimizer = nnx.Optimizer(state_embedder, optax.adamw(learning_rate=0.005))\n",
    "    metrics = nnx.MultiMetric(accuracy=nnx.metrics.Accuracy(), loss=nnx.metrics.Average('loss'))\n",
    "    \n",
    "    state_action_counts = {}    \n",
    "    for i in range(5):\n",
    "        state = batch_full['state'][i]\n",
    "        state_action_counts[i] = Counter(a.item() for s,a in zip(batch_full['state'], batch_full['action']) if (s == state).all())\n",
    "\n",
    "    for i in range(1000+1):\n",
    "        train_step(state_embedder, action_embedder, optimizer, metrics, batch_full)\n",
    "        if i % 100 == 0:\n",
    "            print(f'train_step: {i}: {metrics.compute()}')\n",
    "\n",
    "            for i in range(5):                \n",
    "                state = batch_full['state'][i]\n",
    "                probs = state_action_model.probs(jnp.array([state]))\n",
    "                print(i, jnp.array_str(probs * 100, precision=4, max_line_width=100, suppress_small=True), state_action_counts[i])\n",
    "            print()\n",
    "\n",
    "test_train_step()\n",
    "\n",
    "# train_step: 0: {'accuracy': Array(0.13269493, dtype=float32), 'loss': Array(1.9836767, dtype=float32)}\n",
    "# 0 [[14.1977 11.6685 13.5787 15.1997 17.1362 14.6427 13.5763]] Counter({1: 23, 5: 16, 4: 14, 6: 13, 3: 12, 2: 12, 7: 10})\n",
    "# 1 [[11.3556  3.2975  9.4457 16.5656 36.5498 13.3997  9.3861]] Counter({7: 3, 6: 3, 3: 3, 5: 2, 1: 1, 2: 1})\n",
    "# 2 [[ 7.1729  0.8654  4.9158 14.0405 57.5077 10.0624  5.4355]] Counter({4: 1, 3: 1, 1: 1})\n",
    "# 3 [[ 4.6876  0.2901  2.6779 10.9177 70.7835  7.5228  3.1204]] Counter({5: 1})\n",
    "# 4 [[ 1.9264  0.0413  1.0377  6.3201 85.5749  4.0096  1.0899]] Counter({5: 1})\n",
    "\n",
    "# train_step: 100: {'accuracy': Array(0.22706813, dtype=float32), 'loss': Array(1.9329642, dtype=float32)}\n",
    "# 0 [[22.3287 10.9658 13.5952 12.6839 11.7041 13.5523 15.1701]] Counter({1: 23, 5: 16, 4: 14, 6: 13, 3: 12, 2: 12, 7: 10})\n",
    "# 1 [[ 5.4769  7.0353 24.7796  4.1279 10.7706 23.9065 23.9032]] Counter({7: 3, 6: 3, 3: 3, 5: 2, 1: 1, 2: 1})\n",
    "# 2 [[12.5476  6.2633 10.5911 20.2539 10.8778 19.9631 19.5032]] Counter({4: 1, 3: 1, 1: 1})\n",
    "# 3 [[28.0764  3.5381  5.1928  9.8187 20.605   3.5495 29.2195]] Counter({5: 1})\n",
    "# 4 [[25.1313  7.6401 17.2355 16.7269  8.0618 11.8552 13.3493]] Counter({5: 1})\n",
    "\n",
    "# train_step: 200: {'accuracy': Array(0.44298345, dtype=float32), 'loss': Array(1.4044574, dtype=float32)}\n",
    "# 0 [[23.3568 12.2055 11.3946 13.931  16.6376 13.0367  9.4378]] Counter({1: 23, 5: 16, 4: 14, 6: 13, 3: 12, 2: 12, 7: 10})\n",
    "# 1 [[ 7.5375  7.4087 21.2666  0.0822 14.9679 23.1842 25.5529]] Counter({7: 3, 6: 3, 3: 3, 5: 2, 1: 1, 2: 1})\n",
    "# 2 [[32.8782  0.1298 29.2799 36.4475  0.0006  0.0172  1.2468]] Counter({4: 1, 3: 1, 1: 1})\n",
    "# 3 [[ 1.8262  0.0037  0.      1.5528 96.6167  0.0005  0.0001]] Counter({5: 1})\n",
    "# 4 [[ 0.0001  0.      0.3623  0.0428 99.493   0.0952  0.0065]] Counter({5: 1})\n"
   ]
  },
  {
   "cell_type": "code",
   "execution_count": 66,
   "id": "a34a398d",
   "metadata": {},
   "outputs": [],
   "source": [
    "# TODO: How do we stream a bunch of different batches?\n",
    "# train_batches = [(i, batch) for i in range(2000)]\n",
    "# test_batches = [(i, batch) for i in range(100)]\n",
    "\n",
    "#train_batches = [(i, batch_repeated) for i in range(2000)]\n",
    "#test_batches = [(i, batch_repeated) for i in range(100)]\n",
    "\n",
    "# NUM_TRAIN_BATCHES = 2000\n",
    "NUM_TRAIN_BATCHES = 1\n",
    "train_batches = [(i, batch_full) for i in range(NUM_TRAIN_BATCHES)]\n",
    "test_batches = [(i, batch_full) for i in range(100)]\n",
    "\n",
    "\n",
    "metrics_history = {\n",
    "  'train_loss': [],\n",
    "  'train_accuracy': [],\n",
    "  'test_loss': [],\n",
    "  'test_accuracy': [],\n",
    "}\n",
    "\n",
    "train_steps = 10000\n",
    "eval_every = 200\n",
    "batch_size = 32\n",
    "\n",
    "# for step, batch in enumerate(train_ds.as_numpy_iterator()):\n",
    "for step, batch in train_batches:\n",
    "  # with jax.disable_jit():\n",
    "  #   train_step(state_embedder, action_embedder, optimizer, metrics, batch)\n",
    "  train_step(state_embedder, action_embedder, optimizer, metrics, batch)\n",
    "\n",
    "  if step > 0 and (step % eval_every == 0 or step == train_steps - 1):  # One training epoch has passed.\n",
    "    # Log the training metrics.\n",
    "    for metric, value in metrics.compute().items():  # Compute the metrics.\n",
    "      metrics_history[f'train_{metric}'].append(value)  # Record the metrics.\n",
    "    metrics.reset()  # Reset the metrics for the test set.\n",
    "\n",
    "    # Compute the metrics on the test set after each training epoch.\n",
    "    for _, test_batch in test_batches:\n",
    "      eval_step(state_embedder, action_embedder, metrics, test_batch)\n",
    "\n",
    "    # Log the test metrics.\n",
    "    for metric, value in metrics.compute().items():\n",
    "      metrics_history[f'test_{metric}'].append(value)\n",
    "    metrics.reset()  # Reset the metrics for the next training epoch.\n",
    "\n",
    "    print(\n",
    "      f\"[train] step: {step}, \"\n",
    "      f\"loss: {metrics_history['train_loss'][-1]}, \"\n",
    "      f\"accuracy: {metrics_history['train_accuracy'][-1] * 100}\"\n",
    "    )\n",
    "    # print(\n",
    "    #   f\"[test] step: {step}, \"\n",
    "    #   f\"loss: {metrics_history['test_loss'][-1]}, \"\n",
    "    #   f\"accuracy: {metrics_history['test_accuracy'][-1] * 100}\"\n",
    "    # )\n",
    "\n",
    "\n",
    "# ## Outputs with embedding normalization.\n",
    "# [train] step: 200, loss: 1.4493087530136108, accuracy: 41.806243896484375\n",
    "# [train] step: 400, loss: 0.495466947555542, accuracy: 77.71910858154297\n",
    "# [train] step: 600, loss: 0.4014337956905365, accuracy: 80.45576477050781\n",
    "# [train] step: 800, loss: 0.3858652412891388, accuracy: 80.7986831665039\n",
    "# [train] step: 1000, loss: 0.38055431842803955, accuracy: 80.97492218017578\n",
    "# [train] step: 1200, loss: 0.37459635734558105, accuracy: 81.28226470947266\n",
    "# [train] step: 1400, loss: 0.3812824487686157, accuracy: 81.351806640625\n",
    "# [train] step: 1600, loss: 0.366107702255249, accuracy: 81.67510986328125\n",
    "# [train] step: 1800, loss: 0.3646901547908783, accuracy: 81.75855255126953\n",
    "# [train] step: 2000, loss: 0.3648184537887573, accuracy: 81.75786590576172\n",
    "# [train] step: 2200, loss: 0.35771697759628296, accuracy: 82.1707763671875\n",
    "# [train] step: 2400, loss: 0.3564577102661133, accuracy: 82.21227264404297\n",
    "# [train] step: 2600, loss: 0.3553982973098755, accuracy: 82.25535583496094\n",
    "# [train] step: 2800, loss: 0.3551204204559326, accuracy: 82.25627136230469\n",
    "# [train] step: 3000, loss: 0.35472187399864197, accuracy: 82.2571792602539\n",
    "# [train] step: 3200, loss: 0.35463690757751465, accuracy: 82.25672912597656\n",
    "# [train] step: 3400, loss: 0.35420480370521545, accuracy: 82.25741577148438\n",
    "# [train] step: 3600, loss: 0.35807478427886963, accuracy: 82.2020034790039\n",
    "# [train] step: 3800, loss: 0.35097551345825195, accuracy: 82.39557647705078\n",
    "# [train] step: 4000, loss: 0.3513658940792084, accuracy: 82.39649200439453\n",
    "# [train] step: 4200, loss: 0.3515341877937317, accuracy: 82.39580535888672\n",
    "# [train] step: 4400, loss: 0.35152217745780945, accuracy: 82.39762878417969\n",
    "# [train] step: 4600, loss: 0.35154837369918823, accuracy: 82.39649200439453\n",
    "# [train] step: 4800, loss: 0.3515065014362335, accuracy: 82.40766143798828\n",
    "# [train] step: 5000, loss: 0.3419311046600342, accuracy: 83.08686828613281\n",
    "# ...\n",
    "# [train] step: 19200, loss: 0.21814590692520142, accuracy: 90.15048217773438\n",
    "# [train] step: 19400, loss: 0.2181217074394226, accuracy: 90.15048217773438\n",
    "# [train] step: 19600, loss: 0.21812711656093597, accuracy: 90.15048217773438\n",
    "# [train] step: 19800, loss: 0.21816301345825195, accuracy: 90.14934539794922\n",
    "\n",
    "\n",
    "# logits: [[-0.12943102 -0.18300387 -0.31407255 -0.26985747 -0.03317889  0.8657205  -0.06745078]\n",
    "#          [-0.3108766  -0.11808072 -0.00877056 -0.12999986 -0.18233624 -0.03913596   0.86498916]]\n",
    "# probs: [[0.11739378 0.11127014 0.09760144 0.10201374 0.12925485 0.31756592  0.1249001 ]\n",
    "#         [0.09565745 0.11599759 0.12939627 0.1146232  0.10877853 0.12552617  0.31002077]]\n"
   ]
  },
  {
   "cell_type": "code",
   "execution_count": 67,
   "id": "7d7179d8",
   "metadata": {},
   "outputs": [
    {
     "name": "stdout",
     "output_type": "stream",
     "text": [
      "0 [[16.0473 15.4123 13.6238 13.4007 12.6302 15.335  13.5506]] Counter({1: 23, 5: 16, 4: 14, 6: 13, 3: 12, 2: 12, 7: 10})\n",
      "1 [[29.2187 19.2536 10.1736  7.9687  5.0374 18.8691  9.4789]] Counter({7: 3, 6: 3, 3: 3, 5: 2, 1: 1, 2: 1})\n",
      "2 [[39.9711 18.2044  6.5298  5.4635  2.1863 20.3188  7.3262]] Counter({4: 1, 3: 1, 1: 1})\n",
      "3 [[48.2277 17.6604  3.9698  3.1657  1.1044 21.3496  4.5223]] Counter({5: 1})\n",
      "4 [[52.5742 19.8617  1.9912  1.4634  0.372  21.7475  1.9901]] Counter({5: 1})\n",
      "5 [[59.2366 18.4123  1.1171  0.8116  0.1682 19.1115  1.1429]] Counter({7: 1})\n",
      "6 [[62.148  21.6044  0.7341  0.471   0.061  14.4665  0.515 ]] Counter({1: 1})\n",
      "7 [[63.5058 21.5263  0.4813  0.303   0.0317 13.7824  0.3696]] Counter({7: 1})\n",
      "8 [[76.6878 13.1025  0.1152  0.0922  0.006   9.8978  0.0985]] Counter({1: 1})\n",
      "9 [[79.2133 11.9533  0.0701  0.0548  0.0032  8.6434  0.0619]] Counter({1: 1})\n"
     ]
    }
   ],
   "source": [
    "# Compare action counts to action probabilities.\n",
    "for i in range(10):\n",
    "    state = batch_full['state'][i]\n",
    "    counts = Counter(a.item() for s,a in zip(batch_full['state'], batch_full['action']) if (s == state).all())\n",
    "    probs = state_action_model.probs(jnp.array([state]))\n",
    "    print(i, jnp.array_str(probs * 100, precision=4, max_line_width=100, suppress_small=True), counts)\n",
    "\n",
    "## No training.\n",
    "\n",
    "# 0 [[16.0473 15.4123 13.6238 13.4007 12.6302 15.335  13.5506]] Counter({1: 23, 5: 16, 4: 14, 6: 13, 3: 12, 2: 12, 7: 10})\n",
    "# 1 [[29.2187 19.2536 10.1736  7.9687  5.0374 18.8691  9.4789]] Counter({7: 3, 6: 3, 3: 3, 5: 2, 1: 1, 2: 1})\n",
    "# 2 [[39.9711 18.2044  6.5298  5.4635  2.1863 20.3188  7.3262]] Counter({4: 1, 3: 1, 1: 1})\n",
    "# 3 [[48.2277 17.6604  3.9698  3.1657  1.1044 21.3496  4.5223]] Counter({5: 1})\n",
    "# 4 [[52.5742 19.8617  1.9912  1.4634  0.372  21.7475  1.9901]] Counter({5: 1})\n",
    "# 5 [[59.2366 18.4123  1.1171  0.8116  0.1682 19.1115  1.1429]] Counter({7: 1})\n",
    "# 6 [[62.148  21.6044  0.7341  0.471   0.061  14.4665  0.515 ]] Counter({1: 1})\n",
    "# 7 [[63.5058 21.5263  0.4813  0.303   0.0317 13.7824  0.3696]] Counter({7: 1})\n",
    "# 8 [[76.6878 13.1025  0.1152  0.0922  0.006   9.8978  0.0985]] Counter({1: 1})\n",
    "# 9 [[79.2133 11.9533  0.0701  0.0548  0.0032  8.6434  0.0619]] Counter({1: 1})"
   ]
  }
 ],
 "metadata": {
  "kernelspec": {
   "display_name": "Python 3 (ipykernel)",
   "language": "python",
   "name": "python3"
  },
  "language_info": {
   "codemirror_mode": {
    "name": "ipython",
    "version": 3
   },
   "file_extension": ".py",
   "mimetype": "text/x-python",
   "name": "python",
   "nbconvert_exporter": "python",
   "pygments_lexer": "ipython3",
   "version": "3.10.12"
  }
 },
 "nbformat": 4,
 "nbformat_minor": 5
}
