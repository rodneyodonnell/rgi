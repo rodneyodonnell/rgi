{
 "cells": [
  {
   "cell_type": "markdown",
   "id": "998d2419",
   "metadata": {},
   "source": [
    "# JAX scratchpad"
   ]
  },
  {
   "cell_type": "code",
   "execution_count": 13,
   "id": "aaa165a8",
   "metadata": {},
   "outputs": [],
   "source": [
    "import jax\n",
    "\n",
    "devices = jax.devices()\n",
    "assert len(devices) == 1"
   ]
  },
  {
   "cell_type": "code",
   "execution_count": 14,
   "id": "347a57cb",
   "metadata": {},
   "outputs": [],
   "source": [
    "d0 = devices[0]\n",
    "assert d0.device_kind == 'NVIDIA GeForce RTX 2070 SUPER'"
   ]
  },
  {
   "cell_type": "code",
   "execution_count": 15,
   "id": "000a005c",
   "metadata": {},
   "outputs": [
    {
     "name": "stdout",
     "output_type": "stream",
     "text": [
      "addressable_memories                     : <nanobind.nb_bound_method object at 0x7e85aed6f580>\n",
      "client                                   : <jaxlib.xla_extension.Client object at 0x7e85c9539c00>\n",
      "default_memory                           : <nanobind.nb_bound_method object at 0x7e85aed6b800>\n",
      "device_kind                              : NVIDIA GeForce RTX 2070 SUPER\n",
      "get_stream_for_external_ready_events     : <nanobind.nb_bound_method object at 0x7e85aed6b800>\n",
      "host_id                                  : 0\n",
      "id                                       : 0\n",
      "live_buffers                             : <nanobind.nb_bound_method object at 0x7e85aed6b800>\n",
      "local_hardware_id                        : 0\n",
      "memory                                   : <nanobind.nb_bound_method object at 0x7e85aed6b800>\n",
      "memory_stats                             : <nanobind.nb_bound_method object at 0x7e85aed6b800>\n",
      "platform                                 : gpu\n",
      "process_index                            : 0\n",
      "task_id                                  : 0\n",
      "transfer_from_outfeed                    : <nanobind.nb_bound_method object at 0x7e85aed6b800>\n",
      "transfer_to_infeed                       : <nanobind.nb_bound_method object at 0x7e85aed6b800>\n"
     ]
    }
   ],
   "source": [
    "d0 = jax.devices()[0]\n",
    "for x in dir(d0):\n",
    "    if x[0] != '_':\n",
    "        print(f'{x:40} : {getattr(d0, x)}')"
   ]
  }
 ],
 "metadata": {
  "kernelspec": {
   "display_name": "Python 3 (ipykernel)",
   "language": "python",
   "name": "python3"
  },
  "language_info": {
   "codemirror_mode": {
    "name": "ipython",
    "version": 3
   },
   "file_extension": ".py",
   "mimetype": "text/x-python",
   "name": "python",
   "nbconvert_exporter": "python",
   "pygments_lexer": "ipython3",
   "version": "3.10.12"
  }
 },
 "nbformat": 4,
 "nbformat_minor": 5
}
