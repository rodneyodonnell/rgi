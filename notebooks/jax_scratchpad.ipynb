{
 "cells": [
  {
   "cell_type": "markdown",
   "id": "998d2419",
   "metadata": {},
   "source": [
    "# JAX scratchpad"
   ]
  },
  {
   "cell_type": "code",
   "execution_count": 5,
   "id": "aaa165a8",
   "metadata": {},
   "outputs": [],
   "source": [
    "import jax\n",
    "\n",
    "devices = jax.devices()\n",
    "assert len(devices) == 1"
   ]
  },
  {
   "cell_type": "code",
   "execution_count": 7,
   "id": "347a57cb",
   "metadata": {},
   "outputs": [],
   "source": [
    "d0 = devices[0]\n",
    "assert d0.device_kind == 'NVIDIA GeForce RTX 2070 SUPER'"
   ]
  },
  {
   "cell_type": "code",
   "execution_count": 10,
   "id": "a5ed6945",
   "metadata": {},
   "outputs": [
    {
     "data": {
      "text/plain": [
       "['__class__',\n",
       " '__delattr__',\n",
       " '__dir__',\n",
       " '__doc__',\n",
       " '__eq__',\n",
       " '__format__',\n",
       " '__ge__',\n",
       " '__getattr__',\n",
       " '__getattribute__',\n",
       " '__gt__',\n",
       " '__hash__',\n",
       " '__init__',\n",
       " '__init_subclass__',\n",
       " '__le__',\n",
       " '__lt__',\n",
       " '__module__',\n",
       " '__ne__',\n",
       " '__new__',\n",
       " '__reduce__',\n",
       " '__reduce_ex__',\n",
       " '__repr__',\n",
       " '__setattr__',\n",
       " '__sizeof__',\n",
       " '__str__',\n",
       " '__subclasshook__',\n",
       " 'addressable_memories',\n",
       " 'client',\n",
       " 'default_memory',\n",
       " 'device_kind',\n",
       " 'get_stream_for_external_ready_events',\n",
       " 'host_id',\n",
       " 'id',\n",
       " 'live_buffers',\n",
       " 'local_hardware_id',\n",
       " 'memory',\n",
       " 'memory_stats',\n",
       " 'platform',\n",
       " 'process_index',\n",
       " 'task_id',\n",
       " 'transfer_from_outfeed',\n",
       " 'transfer_to_infeed']"
      ]
     },
     "execution_count": 10,
     "metadata": {},
     "output_type": "execute_result"
    }
   ],
   "source": [
    "\n"
   ]
  }
 ],
 "metadata": {
  "kernelspec": {
   "display_name": "Python 3 (ipykernel)",
   "language": "python",
   "name": "python3"
  },
  "language_info": {
   "codemirror_mode": {
    "name": "ipython",
    "version": 3
   },
   "file_extension": ".py",
   "mimetype": "text/x-python",
   "name": "python",
   "nbconvert_exporter": "python",
   "pygments_lexer": "ipython3",
   "version": "3.10.12"
  }
 },
 "nbformat": 4,
 "nbformat_minor": 5
}
