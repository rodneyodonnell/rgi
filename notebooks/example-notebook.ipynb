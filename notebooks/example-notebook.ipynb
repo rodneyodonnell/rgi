{
 "cells": [
  {
   "cell_type": "code",
   "execution_count": 3,
   "id": "ccbed64a-c1eb-4cd1-8064-795e4d27b131",
   "metadata": {},
   "outputs": [
    {
     "name": "stdout",
     "output_type": "stream",
     "text": [
      "devices: [PhysicalDevice(name='/physical_device:GPU:0', device_type='GPU')]\n"
     ]
    }
   ],
   "source": [
    "import absl.logging\n",
    "absl.logging.set_verbosity(absl.logging.INFO)\n",
    "absl.logging.use_absl_handler()\n",
    "\n",
    "import tensorflow as tf\n",
    "\n",
    "print(f'devices: {tf.config.experimental.list_physical_devices(\"GPU\")}')\n"
   ]
  },
  {
   "cell_type": "code",
   "execution_count": 2,
   "id": "6e96eab2-5fd4-4276-9cf2-fd1cbeec66b7",
   "metadata": {},
   "outputs": [],
   "source": [
    "import main"
   ]
  },
  {
   "cell_type": "code",
   "execution_count": 4,
   "id": "0d97bc7a-ab51-4128-a67d-70adbfc6647f",
   "metadata": {},
   "outputs": [
    {
     "name": "stdout",
     "output_type": "stream",
     "text": [
      "GPU 0: /physical_device:GPU:0, Type: GPU\n",
      "  Name: NVIDIA GeForce RTX 2070 SUPER\n",
      "  Memory: Unknown bytes\n",
      "  Compute Capability: (7, 5)\n"
     ]
    },
    {
     "name": "stderr",
     "output_type": "stream",
     "text": [
      "I0000 00:00:1725811490.597827    1426 cuda_executor.cc:1015] successful NUMA node read from SysFS had negative value (-1), but there must be at least one NUMA node, so returning NUMA node zero. See more at https://github.com/torvalds/linux/blob/v6.0/Documentation/ABI/testing/sysfs-bus-pci#L344-L355\n"
     ]
    }
   ],
   "source": [
    "main.print_gpu_status()"
   ]
  },
  {
   "cell_type": "code",
   "execution_count": null,
   "id": "2dda37a3-a576-4469-af39-0820a278e63a",
   "metadata": {},
   "outputs": [],
   "source": []
  }
 ],
 "metadata": {
  "kernelspec": {
   "display_name": "Python 3 (ipykernel)",
   "language": "python",
   "name": "python3"
  },
  "language_info": {
   "codemirror_mode": {
    "name": "ipython",
    "version": 3
   },
   "file_extension": ".py",
   "mimetype": "text/x-python",
   "name": "python",
   "nbconvert_exporter": "python",
   "pygments_lexer": "ipython3",
   "version": "3.11.0rc1"
  }
 },
 "nbformat": 4,
 "nbformat_minor": 5
}
